{
 "cells": [
  {
   "cell_type": "markdown",
   "metadata": {},
   "source": [
    "# Part 1: \n",
    "#### Identifying influencers (based on the intial assumption: max(friends, fans, elite years))"
   ]
  },
  {
   "cell_type": "markdown",
   "metadata": {},
   "source": [
    "# ---------------------------------------------------------------------------------------------------------------\n",
    "# DATA PREPARATION\n",
    "# ---------------------------------------------------------------------------------------------------------------"
   ]
  },
  {
   "cell_type": "markdown",
   "metadata": {},
   "source": [
    "##### Importing libraries..."
   ]
  },
  {
   "cell_type": "code",
   "execution_count": 1,
   "metadata": {
    "collapsed": false
   },
   "outputs": [],
   "source": [
    "import matplotlib.pyplot as plt\n",
    "import seaborn as sb\n",
    "import pandas as pd\n",
    "import numpy as np\n",
    "from pandas.io.json import json_normalize\n",
    "import json\n",
    "import pymongo\n",
    "import pprint\n",
    "from pymongo import MongoClient\n",
    "%matplotlib inline\n"
   ]
  },
  {
   "cell_type": "markdown",
   "metadata": {},
   "source": [
    "##### Creating a data base connection..."
   ]
  },
  {
   "cell_type": "code",
   "execution_count": 2,
   "metadata": {
    "collapsed": false
   },
   "outputs": [
    {
     "name": "stdout",
     "output_type": "stream",
     "text": [
      "...Connected\n"
     ]
    }
   ],
   "source": [
    "client = MongoClient('mongodb://localhost:27017')\n",
    "db = client.yelp\n",
    "con_check = str(db)\n",
    "if con_check.find('yelp') != int(-1):\n",
    "    print('...Connected')\n",
    "else:\n",
    "    print('...Connection Failed')\n"
   ]
  },
  {
   "cell_type": "markdown",
   "metadata": {},
   "source": [
    "##### Taking a first look at the datasets structures... "
   ]
  },
  {
   "cell_type": "code",
   "execution_count": 3,
   "metadata": {
    "collapsed": false
   },
   "outputs": [
    {
     "data": {
      "text/html": [
       "<div>\n",
       "<table border=\"1\" class=\"dataframe\">\n",
       "  <thead>\n",
       "    <tr style=\"text-align: right;\">\n",
       "      <th></th>\n",
       "      <th>_id</th>\n",
       "      <th>attributes</th>\n",
       "      <th>business_id</th>\n",
       "      <th>categories</th>\n",
       "      <th>city</th>\n",
       "      <th>full_address</th>\n",
       "      <th>hours</th>\n",
       "      <th>latitude</th>\n",
       "      <th>longitude</th>\n",
       "      <th>name</th>\n",
       "      <th>neighborhoods</th>\n",
       "      <th>open</th>\n",
       "      <th>review_count</th>\n",
       "      <th>stars</th>\n",
       "      <th>state</th>\n",
       "      <th>type</th>\n",
       "    </tr>\n",
       "  </thead>\n",
       "  <tbody>\n",
       "    <tr>\n",
       "      <th>0</th>\n",
       "      <td>57712b737b99e72215506d99</td>\n",
       "      <td>{'Parking': {'validated': False, 'garage': Fal...</td>\n",
       "      <td>5UmKMjUEUNdYWqANhGckJw</td>\n",
       "      <td>[Fast Food, Restaurants]</td>\n",
       "      <td>Dravosburg</td>\n",
       "      <td>4734 Lebanon Church Rd\\nDravosburg, PA 15034</td>\n",
       "      <td>{'Thursday': {'open': '11:00', 'close': '21:00...</td>\n",
       "      <td>40.354327</td>\n",
       "      <td>-79.900706</td>\n",
       "      <td>Mr Hoagie</td>\n",
       "      <td>[]</td>\n",
       "      <td>True</td>\n",
       "      <td>4</td>\n",
       "      <td>4.5</td>\n",
       "      <td>PA</td>\n",
       "      <td>business</td>\n",
       "    </tr>\n",
       "    <tr>\n",
       "      <th>1</th>\n",
       "      <td>57712b737b99e72215506d9a</td>\n",
       "      <td>{}</td>\n",
       "      <td>3eu6MEFlq2Dg7bQh8QbdOg</td>\n",
       "      <td>[Auto Repair, Automotive]</td>\n",
       "      <td>Dravosburg</td>\n",
       "      <td>1 Ravine St\\nDravosburg, PA 15034</td>\n",
       "      <td>{}</td>\n",
       "      <td>40.350956</td>\n",
       "      <td>-79.889059</td>\n",
       "      <td>Joe Cislo's Auto</td>\n",
       "      <td>[]</td>\n",
       "      <td>True</td>\n",
       "      <td>3</td>\n",
       "      <td>5.0</td>\n",
       "      <td>PA</td>\n",
       "      <td>business</td>\n",
       "    </tr>\n",
       "  </tbody>\n",
       "</table>\n",
       "</div>"
      ],
      "text/plain": [
       "                        _id  \\\n",
       "0  57712b737b99e72215506d99   \n",
       "1  57712b737b99e72215506d9a   \n",
       "\n",
       "                                          attributes             business_id  \\\n",
       "0  {'Parking': {'validated': False, 'garage': Fal...  5UmKMjUEUNdYWqANhGckJw   \n",
       "1                                                 {}  3eu6MEFlq2Dg7bQh8QbdOg   \n",
       "\n",
       "                  categories        city  \\\n",
       "0   [Fast Food, Restaurants]  Dravosburg   \n",
       "1  [Auto Repair, Automotive]  Dravosburg   \n",
       "\n",
       "                                   full_address  \\\n",
       "0  4734 Lebanon Church Rd\\nDravosburg, PA 15034   \n",
       "1             1 Ravine St\\nDravosburg, PA 15034   \n",
       "\n",
       "                                               hours   latitude  longitude  \\\n",
       "0  {'Thursday': {'open': '11:00', 'close': '21:00...  40.354327 -79.900706   \n",
       "1                                                 {}  40.350956 -79.889059   \n",
       "\n",
       "               name neighborhoods  open  review_count  stars state      type  \n",
       "0         Mr Hoagie            []  True             4    4.5    PA  business  \n",
       "1  Joe Cislo's Auto            []  True             3    5.0    PA  business  "
      ]
     },
     "execution_count": 3,
     "metadata": {},
     "output_type": "execute_result"
    }
   ],
   "source": [
    "# Business dataset:\n",
    "# Building a small exploratory data frame limiting to 2 objects\n",
    "business_data = list(db.business.find().limit(2))\n",
    "business_df = pd.DataFrame(business_data)\n",
    "business_df\n",
    "\n"
   ]
  },
  {
   "cell_type": "code",
   "execution_count": 4,
   "metadata": {
    "collapsed": false
   },
   "outputs": [
    {
     "data": {
      "text/html": [
       "<div>\n",
       "<table border=\"1\" class=\"dataframe\">\n",
       "  <thead>\n",
       "    <tr style=\"text-align: right;\">\n",
       "      <th></th>\n",
       "      <th>_id</th>\n",
       "      <th>attributes.Accepts Credit Cards</th>\n",
       "      <th>attributes.Alcohol</th>\n",
       "      <th>attributes.Ambience.casual</th>\n",
       "      <th>attributes.Ambience.classy</th>\n",
       "      <th>attributes.Ambience.divey</th>\n",
       "      <th>attributes.Ambience.hipster</th>\n",
       "      <th>attributes.Ambience.intimate</th>\n",
       "      <th>attributes.Ambience.romantic</th>\n",
       "      <th>attributes.Ambience.touristy</th>\n",
       "      <th>...</th>\n",
       "      <th>hours.Wednesday.open</th>\n",
       "      <th>latitude</th>\n",
       "      <th>longitude</th>\n",
       "      <th>name</th>\n",
       "      <th>neighborhoods</th>\n",
       "      <th>open</th>\n",
       "      <th>review_count</th>\n",
       "      <th>stars</th>\n",
       "      <th>state</th>\n",
       "      <th>type</th>\n",
       "    </tr>\n",
       "  </thead>\n",
       "  <tbody>\n",
       "    <tr>\n",
       "      <th>0</th>\n",
       "      <td>57712b737b99e72215506d99</td>\n",
       "      <td>True</td>\n",
       "      <td>none</td>\n",
       "      <td>False</td>\n",
       "      <td>False</td>\n",
       "      <td>False</td>\n",
       "      <td>False</td>\n",
       "      <td>False</td>\n",
       "      <td>False</td>\n",
       "      <td>False</td>\n",
       "      <td>...</td>\n",
       "      <td>11:00</td>\n",
       "      <td>40.354327</td>\n",
       "      <td>-79.900706</td>\n",
       "      <td>Mr Hoagie</td>\n",
       "      <td>[]</td>\n",
       "      <td>True</td>\n",
       "      <td>4</td>\n",
       "      <td>4.5</td>\n",
       "      <td>PA</td>\n",
       "      <td>business</td>\n",
       "    </tr>\n",
       "    <tr>\n",
       "      <th>1</th>\n",
       "      <td>57712b737b99e72215506d9a</td>\n",
       "      <td>NaN</td>\n",
       "      <td>NaN</td>\n",
       "      <td>NaN</td>\n",
       "      <td>NaN</td>\n",
       "      <td>NaN</td>\n",
       "      <td>NaN</td>\n",
       "      <td>NaN</td>\n",
       "      <td>NaN</td>\n",
       "      <td>NaN</td>\n",
       "      <td>...</td>\n",
       "      <td>NaN</td>\n",
       "      <td>40.350956</td>\n",
       "      <td>-79.889059</td>\n",
       "      <td>Joe Cislo's Auto</td>\n",
       "      <td>[]</td>\n",
       "      <td>True</td>\n",
       "      <td>3</td>\n",
       "      <td>5.0</td>\n",
       "      <td>PA</td>\n",
       "      <td>business</td>\n",
       "    </tr>\n",
       "  </tbody>\n",
       "</table>\n",
       "<p>2 rows × 59 columns</p>\n",
       "</div>"
      ],
      "text/plain": [
       "                        _id attributes.Accepts Credit Cards  \\\n",
       "0  57712b737b99e72215506d99                            True   \n",
       "1  57712b737b99e72215506d9a                             NaN   \n",
       "\n",
       "  attributes.Alcohol attributes.Ambience.casual attributes.Ambience.classy  \\\n",
       "0               none                      False                      False   \n",
       "1                NaN                        NaN                        NaN   \n",
       "\n",
       "  attributes.Ambience.divey attributes.Ambience.hipster  \\\n",
       "0                     False                       False   \n",
       "1                       NaN                         NaN   \n",
       "\n",
       "  attributes.Ambience.intimate attributes.Ambience.romantic  \\\n",
       "0                        False                        False   \n",
       "1                          NaN                          NaN   \n",
       "\n",
       "  attributes.Ambience.touristy    ...    hours.Wednesday.open   latitude  \\\n",
       "0                        False    ...                   11:00  40.354327   \n",
       "1                          NaN    ...                     NaN  40.350956   \n",
       "\n",
       "   longitude              name neighborhoods  open review_count stars state  \\\n",
       "0 -79.900706         Mr Hoagie            []  True            4   4.5    PA   \n",
       "1 -79.889059  Joe Cislo's Auto            []  True            3   5.0    PA   \n",
       "\n",
       "       type  \n",
       "0  business  \n",
       "1  business  \n",
       "\n",
       "[2 rows x 59 columns]"
      ]
     },
     "execution_count": 4,
     "metadata": {},
     "output_type": "execute_result"
    }
   ],
   "source": [
    "# Normalized data frame\n",
    "business_norm_df = pd.DataFrame(json_normalize(business_data)) \n",
    "business_norm_df\n"
   ]
  },
  {
   "cell_type": "code",
   "execution_count": 5,
   "metadata": {
    "collapsed": false
   },
   "outputs": [
    {
     "data": {
      "text/html": [
       "<div>\n",
       "<table border=\"1\" class=\"dataframe\">\n",
       "  <thead>\n",
       "    <tr style=\"text-align: right;\">\n",
       "      <th></th>\n",
       "      <th>_id</th>\n",
       "      <th>business_id</th>\n",
       "      <th>checkin_info</th>\n",
       "      <th>type</th>\n",
       "    </tr>\n",
       "  </thead>\n",
       "  <tbody>\n",
       "    <tr>\n",
       "      <th>0</th>\n",
       "      <td>57712baa7b99e72215519c1e</td>\n",
       "      <td>mVHrayjG3uZ_RLHkLj-AMg</td>\n",
       "      <td>{'10-5': 1, '12-1': 1, '14-4': 2, '12-5': 2, '...</td>\n",
       "      <td>checkin</td>\n",
       "    </tr>\n",
       "    <tr>\n",
       "      <th>1</th>\n",
       "      <td>57712baa7b99e72215519c1f</td>\n",
       "      <td>b12U9TFESStdy7CsTtcOeg</td>\n",
       "      <td>{'8-2': 1, '5-1': 2, '5-5': 2}</td>\n",
       "      <td>checkin</td>\n",
       "    </tr>\n",
       "  </tbody>\n",
       "</table>\n",
       "</div>"
      ],
      "text/plain": [
       "                        _id             business_id  \\\n",
       "0  57712baa7b99e72215519c1e  mVHrayjG3uZ_RLHkLj-AMg   \n",
       "1  57712baa7b99e72215519c1f  b12U9TFESStdy7CsTtcOeg   \n",
       "\n",
       "                                        checkin_info     type  \n",
       "0  {'10-5': 1, '12-1': 1, '14-4': 2, '12-5': 2, '...  checkin  \n",
       "1                     {'8-2': 1, '5-1': 2, '5-5': 2}  checkin  "
      ]
     },
     "execution_count": 5,
     "metadata": {},
     "output_type": "execute_result"
    }
   ],
   "source": [
    "# Checkin dataset:\n",
    "# Building a small exploratory data frame limiting to 2 objects\n",
    "checkin_data = list(db.checkin.find().limit(2))\n",
    "checkin_df = pd.DataFrame(checkin_data)\n",
    "checkin_df"
   ]
  },
  {
   "cell_type": "code",
   "execution_count": 6,
   "metadata": {
    "collapsed": false
   },
   "outputs": [
    {
     "data": {
      "text/html": [
       "<div>\n",
       "<table border=\"1\" class=\"dataframe\">\n",
       "  <thead>\n",
       "    <tr style=\"text-align: right;\">\n",
       "      <th></th>\n",
       "      <th>_id</th>\n",
       "      <th>business_id</th>\n",
       "      <th>checkin_info.10-4</th>\n",
       "      <th>checkin_info.10-5</th>\n",
       "      <th>checkin_info.11-5</th>\n",
       "      <th>checkin_info.12-1</th>\n",
       "      <th>checkin_info.12-5</th>\n",
       "      <th>checkin_info.13-1</th>\n",
       "      <th>checkin_info.14-4</th>\n",
       "      <th>checkin_info.15-0</th>\n",
       "      <th>...</th>\n",
       "      <th>checkin_info.16-2</th>\n",
       "      <th>checkin_info.17-4</th>\n",
       "      <th>checkin_info.21-4</th>\n",
       "      <th>checkin_info.22-5</th>\n",
       "      <th>checkin_info.5-1</th>\n",
       "      <th>checkin_info.5-5</th>\n",
       "      <th>checkin_info.8-2</th>\n",
       "      <th>checkin_info.9-4</th>\n",
       "      <th>checkin_info.9-5</th>\n",
       "      <th>type</th>\n",
       "    </tr>\n",
       "  </thead>\n",
       "  <tbody>\n",
       "    <tr>\n",
       "      <th>0</th>\n",
       "      <td>57712baa7b99e72215519c1e</td>\n",
       "      <td>mVHrayjG3uZ_RLHkLj-AMg</td>\n",
       "      <td>3.0</td>\n",
       "      <td>1.0</td>\n",
       "      <td>1.0</td>\n",
       "      <td>1.0</td>\n",
       "      <td>2.0</td>\n",
       "      <td>1.0</td>\n",
       "      <td>2.0</td>\n",
       "      <td>1.0</td>\n",
       "      <td>...</td>\n",
       "      <td>1.0</td>\n",
       "      <td>1.0</td>\n",
       "      <td>1.0</td>\n",
       "      <td>1.0</td>\n",
       "      <td>NaN</td>\n",
       "      <td>NaN</td>\n",
       "      <td>NaN</td>\n",
       "      <td>3.0</td>\n",
       "      <td>1.0</td>\n",
       "      <td>checkin</td>\n",
       "    </tr>\n",
       "    <tr>\n",
       "      <th>1</th>\n",
       "      <td>57712baa7b99e72215519c1f</td>\n",
       "      <td>b12U9TFESStdy7CsTtcOeg</td>\n",
       "      <td>NaN</td>\n",
       "      <td>NaN</td>\n",
       "      <td>NaN</td>\n",
       "      <td>NaN</td>\n",
       "      <td>NaN</td>\n",
       "      <td>NaN</td>\n",
       "      <td>NaN</td>\n",
       "      <td>NaN</td>\n",
       "      <td>...</td>\n",
       "      <td>NaN</td>\n",
       "      <td>NaN</td>\n",
       "      <td>NaN</td>\n",
       "      <td>NaN</td>\n",
       "      <td>2.0</td>\n",
       "      <td>2.0</td>\n",
       "      <td>1.0</td>\n",
       "      <td>NaN</td>\n",
       "      <td>NaN</td>\n",
       "      <td>checkin</td>\n",
       "    </tr>\n",
       "  </tbody>\n",
       "</table>\n",
       "<p>2 rows × 22 columns</p>\n",
       "</div>"
      ],
      "text/plain": [
       "                        _id             business_id  checkin_info.10-4  \\\n",
       "0  57712baa7b99e72215519c1e  mVHrayjG3uZ_RLHkLj-AMg                3.0   \n",
       "1  57712baa7b99e72215519c1f  b12U9TFESStdy7CsTtcOeg                NaN   \n",
       "\n",
       "   checkin_info.10-5  checkin_info.11-5  checkin_info.12-1  checkin_info.12-5  \\\n",
       "0                1.0                1.0                1.0                2.0   \n",
       "1                NaN                NaN                NaN                NaN   \n",
       "\n",
       "   checkin_info.13-1  checkin_info.14-4  checkin_info.15-0   ...     \\\n",
       "0                1.0                2.0                1.0   ...      \n",
       "1                NaN                NaN                NaN   ...      \n",
       "\n",
       "   checkin_info.16-2  checkin_info.17-4  checkin_info.21-4  checkin_info.22-5  \\\n",
       "0                1.0                1.0                1.0                1.0   \n",
       "1                NaN                NaN                NaN                NaN   \n",
       "\n",
       "   checkin_info.5-1  checkin_info.5-5  checkin_info.8-2  checkin_info.9-4  \\\n",
       "0               NaN               NaN               NaN               3.0   \n",
       "1               2.0               2.0               1.0               NaN   \n",
       "\n",
       "   checkin_info.9-5     type  \n",
       "0               1.0  checkin  \n",
       "1               NaN  checkin  \n",
       "\n",
       "[2 rows x 22 columns]"
      ]
     },
     "execution_count": 6,
     "metadata": {},
     "output_type": "execute_result"
    }
   ],
   "source": [
    "# Normalized data frame\n",
    "checkin_norm_df = pd.DataFrame(json_normalize(checkin_data)) \n",
    "checkin_norm_df"
   ]
  },
  {
   "cell_type": "code",
   "execution_count": 7,
   "metadata": {
    "collapsed": false
   },
   "outputs": [
    {
     "data": {
      "text/html": [
       "<div>\n",
       "<table border=\"1\" class=\"dataframe\">\n",
       "  <thead>\n",
       "    <tr style=\"text-align: right;\">\n",
       "      <th></th>\n",
       "      <th>_id</th>\n",
       "      <th>business_id</th>\n",
       "      <th>date</th>\n",
       "      <th>review_id</th>\n",
       "      <th>stars</th>\n",
       "      <th>text</th>\n",
       "      <th>type</th>\n",
       "      <th>user_id</th>\n",
       "      <th>votes</th>\n",
       "    </tr>\n",
       "  </thead>\n",
       "  <tbody>\n",
       "    <tr>\n",
       "      <th>0</th>\n",
       "      <td>57712bd37b99e7221552752f</td>\n",
       "      <td>5UmKMjUEUNdYWqANhGckJw</td>\n",
       "      <td>2012-08-01</td>\n",
       "      <td>Ya85v4eqdd6k9Od8HbQjyA</td>\n",
       "      <td>4</td>\n",
       "      <td>Mr Hoagie is an institution. Walking in, it do...</td>\n",
       "      <td>review</td>\n",
       "      <td>PUFPaY9KxDAcGqfsorJp3Q</td>\n",
       "      <td>{'funny': 0, 'useful': 0, 'cool': 0}</td>\n",
       "    </tr>\n",
       "    <tr>\n",
       "      <th>1</th>\n",
       "      <td>57712bd37b99e72215527530</td>\n",
       "      <td>5UmKMjUEUNdYWqANhGckJw</td>\n",
       "      <td>2015-10-31</td>\n",
       "      <td>fFSoGV46Yxuwbr3fHNuZig</td>\n",
       "      <td>5</td>\n",
       "      <td>Yes this place is a little out dated and not o...</td>\n",
       "      <td>review</td>\n",
       "      <td>auESFwWvW42h6alXgFxAXQ</td>\n",
       "      <td>{'funny': 0, 'useful': 0, 'cool': 0}</td>\n",
       "    </tr>\n",
       "  </tbody>\n",
       "</table>\n",
       "</div>"
      ],
      "text/plain": [
       "                        _id             business_id        date  \\\n",
       "0  57712bd37b99e7221552752f  5UmKMjUEUNdYWqANhGckJw  2012-08-01   \n",
       "1  57712bd37b99e72215527530  5UmKMjUEUNdYWqANhGckJw  2015-10-31   \n",
       "\n",
       "                review_id  stars  \\\n",
       "0  Ya85v4eqdd6k9Od8HbQjyA      4   \n",
       "1  fFSoGV46Yxuwbr3fHNuZig      5   \n",
       "\n",
       "                                                text    type  \\\n",
       "0  Mr Hoagie is an institution. Walking in, it do...  review   \n",
       "1  Yes this place is a little out dated and not o...  review   \n",
       "\n",
       "                  user_id                                 votes  \n",
       "0  PUFPaY9KxDAcGqfsorJp3Q  {'funny': 0, 'useful': 0, 'cool': 0}  \n",
       "1  auESFwWvW42h6alXgFxAXQ  {'funny': 0, 'useful': 0, 'cool': 0}  "
      ]
     },
     "execution_count": 7,
     "metadata": {},
     "output_type": "execute_result"
    }
   ],
   "source": [
    "# Review dataset:\n",
    "# Building a small exploratory data frame limiting to 2 objects\n",
    "review_data = list(db.review.find().limit(2))\n",
    "review_df = pd.DataFrame(review_data)\n",
    "review_df"
   ]
  },
  {
   "cell_type": "code",
   "execution_count": 8,
   "metadata": {
    "collapsed": false
   },
   "outputs": [
    {
     "data": {
      "text/html": [
       "<div>\n",
       "<table border=\"1\" class=\"dataframe\">\n",
       "  <thead>\n",
       "    <tr style=\"text-align: right;\">\n",
       "      <th></th>\n",
       "      <th>_id</th>\n",
       "      <th>business_id</th>\n",
       "      <th>date</th>\n",
       "      <th>review_id</th>\n",
       "      <th>stars</th>\n",
       "      <th>text</th>\n",
       "      <th>type</th>\n",
       "      <th>user_id</th>\n",
       "      <th>votes.cool</th>\n",
       "      <th>votes.funny</th>\n",
       "      <th>votes.useful</th>\n",
       "    </tr>\n",
       "  </thead>\n",
       "  <tbody>\n",
       "    <tr>\n",
       "      <th>0</th>\n",
       "      <td>57712bd37b99e7221552752f</td>\n",
       "      <td>5UmKMjUEUNdYWqANhGckJw</td>\n",
       "      <td>2012-08-01</td>\n",
       "      <td>Ya85v4eqdd6k9Od8HbQjyA</td>\n",
       "      <td>4</td>\n",
       "      <td>Mr Hoagie is an institution. Walking in, it do...</td>\n",
       "      <td>review</td>\n",
       "      <td>PUFPaY9KxDAcGqfsorJp3Q</td>\n",
       "      <td>0</td>\n",
       "      <td>0</td>\n",
       "      <td>0</td>\n",
       "    </tr>\n",
       "    <tr>\n",
       "      <th>1</th>\n",
       "      <td>57712bd37b99e72215527530</td>\n",
       "      <td>5UmKMjUEUNdYWqANhGckJw</td>\n",
       "      <td>2015-10-31</td>\n",
       "      <td>fFSoGV46Yxuwbr3fHNuZig</td>\n",
       "      <td>5</td>\n",
       "      <td>Yes this place is a little out dated and not o...</td>\n",
       "      <td>review</td>\n",
       "      <td>auESFwWvW42h6alXgFxAXQ</td>\n",
       "      <td>0</td>\n",
       "      <td>0</td>\n",
       "      <td>0</td>\n",
       "    </tr>\n",
       "  </tbody>\n",
       "</table>\n",
       "</div>"
      ],
      "text/plain": [
       "                        _id             business_id        date  \\\n",
       "0  57712bd37b99e7221552752f  5UmKMjUEUNdYWqANhGckJw  2012-08-01   \n",
       "1  57712bd37b99e72215527530  5UmKMjUEUNdYWqANhGckJw  2015-10-31   \n",
       "\n",
       "                review_id  stars  \\\n",
       "0  Ya85v4eqdd6k9Od8HbQjyA      4   \n",
       "1  fFSoGV46Yxuwbr3fHNuZig      5   \n",
       "\n",
       "                                                text    type  \\\n",
       "0  Mr Hoagie is an institution. Walking in, it do...  review   \n",
       "1  Yes this place is a little out dated and not o...  review   \n",
       "\n",
       "                  user_id  votes.cool  votes.funny  votes.useful  \n",
       "0  PUFPaY9KxDAcGqfsorJp3Q           0            0             0  \n",
       "1  auESFwWvW42h6alXgFxAXQ           0            0             0  "
      ]
     },
     "execution_count": 8,
     "metadata": {},
     "output_type": "execute_result"
    }
   ],
   "source": [
    "# Normalized data frame\n",
    "review_norm_df = pd.DataFrame(json_normalize(review_data)) \n",
    "review_norm_df"
   ]
  },
  {
   "cell_type": "code",
   "execution_count": 9,
   "metadata": {
    "collapsed": false
   },
   "outputs": [
    {
     "data": {
      "text/html": [
       "<div>\n",
       "<table border=\"1\" class=\"dataframe\">\n",
       "  <thead>\n",
       "    <tr style=\"text-align: right;\">\n",
       "      <th></th>\n",
       "      <th>_id</th>\n",
       "      <th>business_id</th>\n",
       "      <th>date</th>\n",
       "      <th>likes</th>\n",
       "      <th>text</th>\n",
       "      <th>type</th>\n",
       "      <th>user_id</th>\n",
       "    </tr>\n",
       "  </thead>\n",
       "  <tbody>\n",
       "    <tr>\n",
       "      <th>0</th>\n",
       "      <td>57712e7b7b99e722158ee6ef</td>\n",
       "      <td>cE27W9VPgO88Qxe4ol6y_g</td>\n",
       "      <td>2013-04-18</td>\n",
       "      <td>0</td>\n",
       "      <td>Don't waste your time.</td>\n",
       "      <td>tip</td>\n",
       "      <td>-6rEfobYjMxpUWLNxszaxQ</td>\n",
       "    </tr>\n",
       "    <tr>\n",
       "      <th>1</th>\n",
       "      <td>57712e7b7b99e722158ee6f0</td>\n",
       "      <td>mVHrayjG3uZ_RLHkLj-AMg</td>\n",
       "      <td>2013-01-06</td>\n",
       "      <td>1</td>\n",
       "      <td>Your GPS will not allow you to find this place...</td>\n",
       "      <td>tip</td>\n",
       "      <td>EZ0r9dKKtEGVx2CdnowPCw</td>\n",
       "    </tr>\n",
       "  </tbody>\n",
       "</table>\n",
       "</div>"
      ],
      "text/plain": [
       "                        _id             business_id        date  likes  \\\n",
       "0  57712e7b7b99e722158ee6ef  cE27W9VPgO88Qxe4ol6y_g  2013-04-18      0   \n",
       "1  57712e7b7b99e722158ee6f0  mVHrayjG3uZ_RLHkLj-AMg  2013-01-06      1   \n",
       "\n",
       "                                                text type  \\\n",
       "0                             Don't waste your time.  tip   \n",
       "1  Your GPS will not allow you to find this place...  tip   \n",
       "\n",
       "                  user_id  \n",
       "0  -6rEfobYjMxpUWLNxszaxQ  \n",
       "1  EZ0r9dKKtEGVx2CdnowPCw  "
      ]
     },
     "execution_count": 9,
     "metadata": {},
     "output_type": "execute_result"
    }
   ],
   "source": [
    "# Tip dataset:\n",
    "# Building a small exploratory data frame limiting to 2 objects\n",
    "tip_data = list(db.tip.find().limit(2))\n",
    "tip_df = pd.DataFrame(tip_data)\n",
    "tip_df\n",
    "# no nested objects >> no need to normalize"
   ]
  },
  {
   "cell_type": "code",
   "execution_count": 10,
   "metadata": {
    "collapsed": false,
    "scrolled": true
   },
   "outputs": [
    {
     "data": {
      "text/html": [
       "<div>\n",
       "<table border=\"1\" class=\"dataframe\">\n",
       "  <thead>\n",
       "    <tr style=\"text-align: right;\">\n",
       "      <th></th>\n",
       "      <th>_id</th>\n",
       "      <th>average_stars</th>\n",
       "      <th>compliments</th>\n",
       "      <th>elite</th>\n",
       "      <th>fans</th>\n",
       "      <th>friends</th>\n",
       "      <th>name</th>\n",
       "      <th>review_count</th>\n",
       "      <th>type</th>\n",
       "      <th>user_id</th>\n",
       "      <th>votes</th>\n",
       "      <th>yelping_since</th>\n",
       "    </tr>\n",
       "  </thead>\n",
       "  <tbody>\n",
       "    <tr>\n",
       "      <th>0</th>\n",
       "      <td>57712ea47b99e7221597eee7</td>\n",
       "      <td>4.14</td>\n",
       "      <td>{'more': 3, 'hot': 48, 'cool': 78, 'cute': 15,...</td>\n",
       "      <td>[2005, 2006]</td>\n",
       "      <td>70</td>\n",
       "      <td>[rpOyqD_893cqmDAtJLbdog, 4U9kSBLuBDU391x6bxU-Y...</td>\n",
       "      <td>Russel</td>\n",
       "      <td>108</td>\n",
       "      <td>user</td>\n",
       "      <td>18kPq7GPye-YQ3LyKyAZPw</td>\n",
       "      <td>{'funny': 167, 'useful': 280, 'cool': 245}</td>\n",
       "      <td>2004-10</td>\n",
       "    </tr>\n",
       "    <tr>\n",
       "      <th>1</th>\n",
       "      <td>57712ea47b99e7221597eee8</td>\n",
       "      <td>4.64</td>\n",
       "      <td>{'cute': 2}</td>\n",
       "      <td>[]</td>\n",
       "      <td>2</td>\n",
       "      <td>[18kPq7GPye-YQ3LyKyAZPw, rpOyqD_893cqmDAtJLbdo...</td>\n",
       "      <td>Ken</td>\n",
       "      <td>11</td>\n",
       "      <td>user</td>\n",
       "      <td>fHtTaujcyKvXglE33Z5yIw</td>\n",
       "      <td>{'funny': 1, 'useful': 11, 'cool': 5}</td>\n",
       "      <td>2004-10</td>\n",
       "    </tr>\n",
       "  </tbody>\n",
       "</table>\n",
       "</div>"
      ],
      "text/plain": [
       "                        _id  average_stars  \\\n",
       "0  57712ea47b99e7221597eee7           4.14   \n",
       "1  57712ea47b99e7221597eee8           4.64   \n",
       "\n",
       "                                         compliments         elite  fans  \\\n",
       "0  {'more': 3, 'hot': 48, 'cool': 78, 'cute': 15,...  [2005, 2006]    70   \n",
       "1                                        {'cute': 2}            []     2   \n",
       "\n",
       "                                             friends    name  review_count  \\\n",
       "0  [rpOyqD_893cqmDAtJLbdog, 4U9kSBLuBDU391x6bxU-Y...  Russel           108   \n",
       "1  [18kPq7GPye-YQ3LyKyAZPw, rpOyqD_893cqmDAtJLbdo...     Ken            11   \n",
       "\n",
       "   type                 user_id                                       votes  \\\n",
       "0  user  18kPq7GPye-YQ3LyKyAZPw  {'funny': 167, 'useful': 280, 'cool': 245}   \n",
       "1  user  fHtTaujcyKvXglE33Z5yIw       {'funny': 1, 'useful': 11, 'cool': 5}   \n",
       "\n",
       "  yelping_since  \n",
       "0       2004-10  \n",
       "1       2004-10  "
      ]
     },
     "execution_count": 10,
     "metadata": {},
     "output_type": "execute_result"
    }
   ],
   "source": [
    "# User dataset:\n",
    "# Building a small exploratory data frame limiting to 2 objects\n",
    "user_data = list(db.user.find().limit(2))\n",
    "user_df = pd.DataFrame(user_data)\n",
    "user_df"
   ]
  },
  {
   "cell_type": "code",
   "execution_count": 11,
   "metadata": {
    "collapsed": false,
    "scrolled": true
   },
   "outputs": [
    {
     "data": {
      "text/html": [
       "<div>\n",
       "<table border=\"1\" class=\"dataframe\">\n",
       "  <thead>\n",
       "    <tr style=\"text-align: right;\">\n",
       "      <th></th>\n",
       "      <th>_id</th>\n",
       "      <th>average_stars</th>\n",
       "      <th>compliments.cool</th>\n",
       "      <th>compliments.cute</th>\n",
       "      <th>compliments.funny</th>\n",
       "      <th>compliments.hot</th>\n",
       "      <th>compliments.more</th>\n",
       "      <th>compliments.note</th>\n",
       "      <th>compliments.photos</th>\n",
       "      <th>compliments.plain</th>\n",
       "      <th>...</th>\n",
       "      <th>fans</th>\n",
       "      <th>friends</th>\n",
       "      <th>name</th>\n",
       "      <th>review_count</th>\n",
       "      <th>type</th>\n",
       "      <th>user_id</th>\n",
       "      <th>votes.cool</th>\n",
       "      <th>votes.funny</th>\n",
       "      <th>votes.useful</th>\n",
       "      <th>yelping_since</th>\n",
       "    </tr>\n",
       "  </thead>\n",
       "  <tbody>\n",
       "    <tr>\n",
       "      <th>0</th>\n",
       "      <td>57712ea47b99e7221597eee7</td>\n",
       "      <td>4.14</td>\n",
       "      <td>78.0</td>\n",
       "      <td>15</td>\n",
       "      <td>11.0</td>\n",
       "      <td>48.0</td>\n",
       "      <td>3.0</td>\n",
       "      <td>20.0</td>\n",
       "      <td>14.0</td>\n",
       "      <td>25.0</td>\n",
       "      <td>...</td>\n",
       "      <td>70</td>\n",
       "      <td>[rpOyqD_893cqmDAtJLbdog, 4U9kSBLuBDU391x6bxU-Y...</td>\n",
       "      <td>Russel</td>\n",
       "      <td>108</td>\n",
       "      <td>user</td>\n",
       "      <td>18kPq7GPye-YQ3LyKyAZPw</td>\n",
       "      <td>245</td>\n",
       "      <td>167</td>\n",
       "      <td>280</td>\n",
       "      <td>2004-10</td>\n",
       "    </tr>\n",
       "    <tr>\n",
       "      <th>1</th>\n",
       "      <td>57712ea47b99e7221597eee8</td>\n",
       "      <td>4.64</td>\n",
       "      <td>NaN</td>\n",
       "      <td>2</td>\n",
       "      <td>NaN</td>\n",
       "      <td>NaN</td>\n",
       "      <td>NaN</td>\n",
       "      <td>NaN</td>\n",
       "      <td>NaN</td>\n",
       "      <td>NaN</td>\n",
       "      <td>...</td>\n",
       "      <td>2</td>\n",
       "      <td>[18kPq7GPye-YQ3LyKyAZPw, rpOyqD_893cqmDAtJLbdo...</td>\n",
       "      <td>Ken</td>\n",
       "      <td>11</td>\n",
       "      <td>user</td>\n",
       "      <td>fHtTaujcyKvXglE33Z5yIw</td>\n",
       "      <td>5</td>\n",
       "      <td>1</td>\n",
       "      <td>11</td>\n",
       "      <td>2004-10</td>\n",
       "    </tr>\n",
       "  </tbody>\n",
       "</table>\n",
       "<p>2 rows × 23 columns</p>\n",
       "</div>"
      ],
      "text/plain": [
       "                        _id  average_stars  compliments.cool  \\\n",
       "0  57712ea47b99e7221597eee7           4.14              78.0   \n",
       "1  57712ea47b99e7221597eee8           4.64               NaN   \n",
       "\n",
       "   compliments.cute  compliments.funny  compliments.hot  compliments.more  \\\n",
       "0                15               11.0             48.0               3.0   \n",
       "1                 2                NaN              NaN               NaN   \n",
       "\n",
       "   compliments.note  compliments.photos  compliments.plain      ...        \\\n",
       "0              20.0                14.0               25.0      ...         \n",
       "1               NaN                 NaN                NaN      ...         \n",
       "\n",
       "   fans                                            friends    name  \\\n",
       "0    70  [rpOyqD_893cqmDAtJLbdog, 4U9kSBLuBDU391x6bxU-Y...  Russel   \n",
       "1     2  [18kPq7GPye-YQ3LyKyAZPw, rpOyqD_893cqmDAtJLbdo...     Ken   \n",
       "\n",
       "   review_count  type                 user_id  votes.cool votes.funny  \\\n",
       "0           108  user  18kPq7GPye-YQ3LyKyAZPw         245         167   \n",
       "1            11  user  fHtTaujcyKvXglE33Z5yIw           5           1   \n",
       "\n",
       "  votes.useful  yelping_since  \n",
       "0          280        2004-10  \n",
       "1           11        2004-10  \n",
       "\n",
       "[2 rows x 23 columns]"
      ]
     },
     "execution_count": 11,
     "metadata": {},
     "output_type": "execute_result"
    }
   ],
   "source": [
    "# Normalized data frame\n",
    "user_norm_df = pd.DataFrame(json_normalize(user_data)) \n",
    "user_norm_df"
   ]
  },
  {
   "cell_type": "markdown",
   "metadata": {
    "collapsed": false
   },
   "source": [
    "\n",
    "# ---------------------------------------------------------------------------------------------------------------\n",
    "#                                      END OF DATA PREPARATION\n",
    "# ---------------------------------------------------------------------------------------------------------------\n"
   ]
  },
  {
   "cell_type": "markdown",
   "metadata": {},
   "source": [
    "# ---------------------------------------------------------------------------------------------------------------\n",
    "# INFLUENCERS IDENTIFICATION\n",
    "\n",
    "Exploring users and reviews datasets, assuming that influencers are the users with the top 10% number of:\n",
    "* Elite years\n",
    "* Fans\n",
    "* Friends\n",
    "# ---------------------------------------------------------------------------------------------------------"
   ]
  },
  {
   "cell_type": "code",
   "execution_count": 12,
   "metadata": {
    "collapsed": false
   },
   "outputs": [],
   "source": [
    "# Identifying top 10% of users with the highest number of elite years: \n",
    "# Data base query logic: \n",
    "# 1) picking users with elite years greater than 0. (There are empty arrays for some users, so there is a risk that the query\n",
    "# could count and empty array of elite years as 1 elite year, while in fact there are 0 elite years )\n",
    "# 2) Unwinding an elite years array for each user in the set\n",
    "# 3) Grouping all documents in the collection by user_id\n",
    "# 4) Counting grouped documnets in the collection\n",
    "# 5) Creating a list of the returned by the query users ids and their elite years counts\n",
    "\n",
    "\n",
    "\n",
    "elite = list(db.user.aggregate([{\"$match\":{\"elite\":{\"$gt\":[]}}}, {\"$unwind\":\"$elite\"},\n",
    "                                 {\"$group\":{\"_id\":\"$user_id\", \"count_elite\": {\"$sum\":1}}}]))"
   ]
  },
  {
   "cell_type": "code",
   "execution_count": 13,
   "metadata": {
    "collapsed": false
   },
   "outputs": [],
   "source": [
    "elite_df = pd.DataFrame(elite) # Creating data frame from elite list\n",
    "elite_df = elite_df.sort_values('count_elite', ascending=False) #Sorting users by the number of elite years\n",
    "elite_df.loc[ : ,'count_elite'] = elite_df['count_elite'].astype(int) #Changing count_elite column`s values type to an integer type\n"
   ]
  },
  {
   "cell_type": "code",
   "execution_count": 14,
   "metadata": {
    "collapsed": false
   },
   "outputs": [
    {
     "data": {
      "text/plain": [
       "<matplotlib.text.Text at 0x216d085d2b0>"
      ]
     },
     "execution_count": 14,
     "metadata": {},
     "output_type": "execute_result"
    },
    {
     "data": {
      "image/png": "[encoded data removed]",
      "text/plain": [
       "<matplotlib.figure.Figure at 0x216d123de80>"
      ]
     },
     "metadata": {},
     "output_type": "display_data"
    }
   ],
   "source": [
    "# Identifying top 10% users with the highest number of elite years by using np.percentile(elite_df.count_elite, 90) >> Not sure\n",
    "elite_df_top = elite_df[elite_df.count_elite >= np.percentile(elite_df.count_elite, 90)]\n",
    "plt.figure() # Drawing the distribution of elite years numbers of all users in the users dataset:\n",
    "plt.hist(elite_df.count_elite)\n",
    "plt.hist(elite_df_top.count_elite)\n",
    "plt.title('Distribution of users` number of elite years and distribution of top 10% users with the highest number of elite years')"
   ]
  },
  {
   "cell_type": "code",
   "execution_count": 15,
   "metadata": {
    "collapsed": false
   },
   "outputs": [
    {
     "data": {
      "text/html": [
       "<div>\n",
       "<table border=\"1\" class=\"dataframe\">\n",
       "  <thead>\n",
       "    <tr style=\"text-align: right;\">\n",
       "      <th></th>\n",
       "      <th>_id</th>\n",
       "      <th>count_elite</th>\n",
       "    </tr>\n",
       "  </thead>\n",
       "  <tbody>\n",
       "    <tr>\n",
       "      <th>3118</th>\n",
       "      <td>K2PDI4_GJLUTwjq0jA2viQ</td>\n",
       "      <td>11</td>\n",
       "    </tr>\n",
       "    <tr>\n",
       "      <th>3232</th>\n",
       "      <td>7uxXuCcpw9-mUS3OJVw8aQ</td>\n",
       "      <td>11</td>\n",
       "    </tr>\n",
       "  </tbody>\n",
       "</table>\n",
       "</div>"
      ],
      "text/plain": [
       "                         _id  count_elite\n",
       "3118  K2PDI4_GJLUTwjq0jA2viQ           11\n",
       "3232  7uxXuCcpw9-mUS3OJVw8aQ           11"
      ]
     },
     "execution_count": 15,
     "metadata": {},
     "output_type": "execute_result"
    }
   ],
   "source": [
    "elite_df_top.head(2)"
   ]
  },
  {
   "cell_type": "code",
   "execution_count": 16,
   "metadata": {
    "collapsed": false
   },
   "outputs": [],
   "source": [
    "fans = (list(db.user.find({},{\"_id\":0,\"fans\":1, \"user_id\":1}))) # Querying the data base to return all users ids and fans\n",
    "fans_df = pd.DataFrame(fans) # Creating a data frame from fans list\n",
    "fans = [] # Clearing the fans list to empty the RAM"
   ]
  },
  {
   "cell_type": "code",
   "execution_count": 17,
   "metadata": {
    "collapsed": false
   },
   "outputs": [],
   "source": [
    "fans_df = fans_df.sort_values('fans',ascending=False) # Sorting users by fans number\n",
    "fans_df = fans_df[fans_df.fans!= 0] # Cleaning the data by excluding users with no fans\n",
    "fans_df = fans_df.rename(columns={'user_id': '_id'})\n",
    "fans_df_top = fans_df[fans_df.fans >= np.percentile(fans_df.fans, 90)] # Identifying top 10% users with the highest number of fans"
   ]
  },
  {
   "cell_type": "code",
   "execution_count": 18,
   "metadata": {
    "collapsed": false
   },
   "outputs": [
    {
     "data": {
      "text/plain": [
       "<matplotlib.text.Text at 0x216d0a9a4e0>"
      ]
     },
     "execution_count": 18,
     "metadata": {},
     "output_type": "execute_result"
    },
    {
     "data": {
      "image/png": "[encoded data removed]",
      "text/plain": [
       "<matplotlib.figure.Figure at 0x216d0917940>"
      ]
     },
     "metadata": {},
     "output_type": "display_data"
    }
   ],
   "source": [
    "# Drawing the distribution of fans numbers of all users in the users dataset:\n",
    "plt.figure()\n",
    "plt.hist(fans_df.fans)\n",
    "plt.hist(fans_df_top.fans)\n",
    "plt.title('Distribution of users` number of fans and distribution of top 10% users with the highest number of fans')\n"
   ]
  },
  {
   "cell_type": "code",
   "execution_count": 19,
   "metadata": {
    "collapsed": false
   },
   "outputs": [
    {
     "data": {
      "text/html": [
       "<div>\n",
       "<table border=\"1\" class=\"dataframe\">\n",
       "  <thead>\n",
       "    <tr style=\"text-align: right;\">\n",
       "      <th></th>\n",
       "      <th>_id</th>\n",
       "      <th>fans</th>\n",
       "    </tr>\n",
       "  </thead>\n",
       "  <tbody>\n",
       "    <tr>\n",
       "      <th>447242</th>\n",
       "      <td>VRCl0XzcC3n5RzfuU3gu3w</td>\n",
       "      <td>1657</td>\n",
       "    </tr>\n",
       "    <tr>\n",
       "      <th>325601</th>\n",
       "      <td>spJUPXI7QaIctU0FO5c42w</td>\n",
       "      <td>1363</td>\n",
       "    </tr>\n",
       "  </tbody>\n",
       "</table>\n",
       "</div>"
      ],
      "text/plain": [
       "                           _id  fans\n",
       "447242  VRCl0XzcC3n5RzfuU3gu3w  1657\n",
       "325601  spJUPXI7QaIctU0FO5c42w  1363"
      ]
     },
     "execution_count": 19,
     "metadata": {},
     "output_type": "execute_result"
    }
   ],
   "source": [
    "fans_df_top.head(2)\n",
    "fans_df_top = fans_df_top.reindex(columns=['_id','fans'])\n",
    "fans_df_top.head(2)"
   ]
  },
  {
   "cell_type": "code",
   "execution_count": 20,
   "metadata": {
    "collapsed": false
   },
   "outputs": [],
   "source": [
    "# Identifying top 10% users with the highest number of fans\n",
    "# Data base query logic: identical to elite years query\n",
    "friends = list(db.user.aggregate([{\"$match\":{\"friends\":{\"$gt\":[]}}}, {\"$unwind\":\"$friends\"},\n",
    "                                 {\"$group\":{\"_id\":\"$user_id\", \"count_friends\": {\"$sum\":1}}}]))"
   ]
  },
  {
   "cell_type": "code",
   "execution_count": 21,
   "metadata": {
    "collapsed": false
   },
   "outputs": [],
   "source": [
    "friends_df = pd.DataFrame(friends) # Creating a data frame from friends list\n",
    "friends = [] # Clearing the friends list to empty the RAM"
   ]
  },
  {
   "cell_type": "code",
   "execution_count": 22,
   "metadata": {
    "collapsed": false
   },
   "outputs": [
    {
     "data": {
      "text/html": [
       "<div>\n",
       "<table border=\"1\" class=\"dataframe\">\n",
       "  <thead>\n",
       "    <tr style=\"text-align: right;\">\n",
       "      <th></th>\n",
       "      <th>_id</th>\n",
       "      <th>count_friends</th>\n",
       "    </tr>\n",
       "  </thead>\n",
       "  <tbody>\n",
       "    <tr>\n",
       "      <th>56288</th>\n",
       "      <td>WmAyExqSWoiYZ5XEqpk_Uw</td>\n",
       "      <td>3812</td>\n",
       "    </tr>\n",
       "    <tr>\n",
       "      <th>22392</th>\n",
       "      <td>AaZdXn0I6F5bdIVwGpxdDA</td>\n",
       "      <td>3206</td>\n",
       "    </tr>\n",
       "  </tbody>\n",
       "</table>\n",
       "</div>"
      ],
      "text/plain": [
       "                          _id  count_friends\n",
       "56288  WmAyExqSWoiYZ5XEqpk_Uw           3812\n",
       "22392  AaZdXn0I6F5bdIVwGpxdDA           3206"
      ]
     },
     "execution_count": 22,
     "metadata": {},
     "output_type": "execute_result"
    }
   ],
   "source": [
    "friends_df = friends_df.sort_values('count_friends', ascending=False) # Sorting users by the number of friends\n",
    "# Identifying top 10% users with the highest number of friends\n",
    "friends_df_top  = friends_df[friends_df.count_friends >= np.percentile(friends_df.count_friends,90)] \n",
    "friends_df_top.head(2)"
   ]
  },
  {
   "cell_type": "code",
   "execution_count": 23,
   "metadata": {
    "collapsed": false
   },
   "outputs": [
    {
     "data": {
      "text/plain": [
       "<matplotlib.text.Text at 0x216dfcd0240>"
      ]
     },
     "execution_count": 23,
     "metadata": {},
     "output_type": "execute_result"
    },
    {
     "data": {
      "image/png": "[encoded data removed]",
      "text/plain": [
       "<matplotlib.figure.Figure at 0x216d09074e0>"
      ]
     },
     "metadata": {},
     "output_type": "display_data"
    }
   ],
   "source": [
    "# Drawing the distribution of friends numbers of all users in the users dataset:\n",
    "plt.figure()\n",
    "plt.hist(friends_df.count_friends)\n",
    "plt.hist(friends_df_top.count_friends)\n",
    "plt.title('Distribution of users` number of friends and distribution of top 10% users with the highest number of friends')\n"
   ]
  },
  {
   "cell_type": "code",
   "execution_count": 24,
   "metadata": {
    "collapsed": false
   },
   "outputs": [],
   "source": [
    "top_df = pd.merge(friends_df_top,elite_df_top, on = '_id') # Merging top friends, top elite and top fans users in one data frame\n",
    "top_df = pd.merge(top_df,fans_df_top, on = '_id')\n",
    "top_df.head()\n",
    "top_df.to_json('intermediate_datasets\\influencers.json') # Saving the dataframe in separate json file"
   ]
  },
  {
   "cell_type": "markdown",
   "metadata": {
    "collapsed": false
   },
   "source": [
    "# ---------------------------------------------------------------------------------------------------------------\n",
    "\n",
    "# END OF Part 1\n",
    "\n",
    "# ---------------------------------------------------------------------------------------------------------------"
   ]
  }
 ],
 "metadata": {
  "kernelspec": {
   "display_name": "Python 3",
   "language": "python",
   "name": "python3"
  },
  "language_info": {
   "codemirror_mode": {
    "name": "ipython",
    "version": 3
   },
   "file_extension": ".py",
   "mimetype": "text/x-python",
   "name": "python",
   "nbconvert_exporter": "python",
   "pygments_lexer": "ipython3",
   "version": "3.5.1"
  }
 },
 "nbformat": 4,
 "nbformat_minor": 0
}
