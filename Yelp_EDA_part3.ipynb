{
 "cells": [
  {
   "cell_type": "code",
   "execution_count": 1,
   "metadata": {
    "collapsed": true
   },
   "outputs": [],
   "source": [
    "import matplotlib.pyplot as plt\n",
    "import matplotlib.dates as mdates\n",
    "import seaborn as sb\n",
    "import pandas as pd\n",
    "import numpy as np\n",
    "from pandas.io.json import json_normalize\n",
    "import json\n",
    "import pymongo\n",
    "import pprint\n",
    "from pymongo import MongoClient\n",
    "import datetime as dt\n",
    "from operator import attrgetter\n",
    "%matplotlib inline"
   ]
  },
  {
   "cell_type": "code",
   "execution_count": 2,
   "metadata": {
    "collapsed": false
   },
   "outputs": [
    {
     "name": "stdout",
     "output_type": "stream",
     "text": [
      "...Connected\n"
     ]
    }
   ],
   "source": [
    "client = MongoClient('mongodb://localhost:27017')\n",
    "db = client.yelp\n",
    "con_check = str(db)\n",
    "if con_check.find('yelp') != int(-1):\n",
    "    print('...Connected')\n",
    "else:\n",
    "    print('...Connection Failed')"
   ]
  },
  {
   "cell_type": "code",
   "execution_count": 3,
   "metadata": {
    "collapsed": true
   },
   "outputs": [],
   "source": [
    "all_reviews = list(db.review.find({},{\"date\":1, \"user_id\":1, \"stars\":1}).limit(50000))  "
   ]
  },
  {
   "cell_type": "code",
   "execution_count": 40,
   "metadata": {
    "collapsed": true
   },
   "outputs": [],
   "source": [
    "all_reviews_df = pd.DataFrame(all_reviews)\n",
    "all_reviews = []"
   ]
  },
  {
   "cell_type": "code",
   "execution_count": 41,
   "metadata": {
    "collapsed": false
   },
   "outputs": [
    {
     "data": {
      "text/html": [
       "<div>\n",
       "<table border=\"1\" class=\"dataframe\">\n",
       "  <thead>\n",
       "    <tr style=\"text-align: right;\">\n",
       "      <th></th>\n",
       "      <th>_id</th>\n",
       "      <th>date</th>\n",
       "      <th>stars</th>\n",
       "      <th>user_id</th>\n",
       "    </tr>\n",
       "  </thead>\n",
       "  <tbody>\n",
       "    <tr>\n",
       "      <th>0</th>\n",
       "      <td>57712bd37b99e7221552752f</td>\n",
       "      <td>2012-08-01</td>\n",
       "      <td>4</td>\n",
       "      <td>PUFPaY9KxDAcGqfsorJp3Q</td>\n",
       "    </tr>\n",
       "    <tr>\n",
       "      <th>1</th>\n",
       "      <td>57712bd37b99e72215527530</td>\n",
       "      <td>2015-10-31</td>\n",
       "      <td>5</td>\n",
       "      <td>auESFwWvW42h6alXgFxAXQ</td>\n",
       "    </tr>\n",
       "  </tbody>\n",
       "</table>\n",
       "</div>"
      ],
      "text/plain": [
       "                        _id        date  stars                 user_id\n",
       "0  57712bd37b99e7221552752f  2012-08-01      4  PUFPaY9KxDAcGqfsorJp3Q\n",
       "1  57712bd37b99e72215527530  2015-10-31      5  auESFwWvW42h6alXgFxAXQ"
      ]
     },
     "execution_count": 41,
     "metadata": {},
     "output_type": "execute_result"
    }
   ],
   "source": [
    "all_reviews_df.head(2)"
   ]
  },
  {
   "cell_type": "code",
   "execution_count": 42,
   "metadata": {
    "collapsed": true
   },
   "outputs": [],
   "source": [
    "dates = list(all_reviews_df.date)\n",
    "all_dates = [dt.datetime.strptime(d,'%Y-%m-%d').date() for d in dates]\n",
    "dates = []"
   ]
  },
  {
   "cell_type": "code",
   "execution_count": 43,
   "metadata": {
    "collapsed": false
   },
   "outputs": [],
   "source": [
    "months= list()\n",
    "mcount = min(all_dates)  \n",
    "\n",
    "monthly_reviews_list = list()\n",
    "monthly_stars_avg_list = list()\n",
    "\n",
    "while mcount <= max(all_dates):\n",
    "    months.append(mcount)\n",
    "    mcount = mcount + 4 * dt.timedelta(7)\n",
    "\n",
    "for month in months:\n",
    "    monthly_review_count = 0.0\n",
    "    monthly_stars_sum = 0.0\n",
    "    monthly_stars_avg = 0.0\n",
    "    date_index = 0\n",
    "\n",
    "    for date in all_reviews_df.date :\n",
    "        date = dt.datetime.strptime(date,'%Y-%m-%d').date()\n",
    "        \n",
    "        if date >= month and date <= month + 4 * dt.timedelta(6):\n",
    "            monthly_review_count = 1 + monthly_review_count\n",
    "            monthly_stars_sum = monthly_stars_sum + all_reviews_df.stars[date_index]\n",
    "            monthly_stars_avg = monthly_stars_sum / monthly_review_count\n",
    "\n",
    "        date_index = date_index + 1\n",
    "        \n",
    "    monthly_reviews_list.append(monthly_review_count)\n",
    "    monthly_stars_avg_list.append(monthly_stars_avg)"
   ]
  },
  {
   "cell_type": "code",
   "execution_count": 44,
   "metadata": {
    "collapsed": false
   },
   "outputs": [
    {
     "data": {
      "text/plain": [
       "<matplotlib.text.Text at 0x1a4dc312710>"
      ]
     },
     "execution_count": 44,
     "metadata": {},
     "output_type": "execute_result"
    },
    {
     "data": {
      "image/png": "[encoded data removed]",
      "text/plain": [
       "<matplotlib.figure.Figure at 0x1a4b42dadd8>"
      ]
     },
     "metadata": {},
     "output_type": "display_data"
    }
   ],
   "source": [
    "fig, ax = plt.subplots(figsize=(20,5))\n",
    "ax.plot(months, monthly_reviews_list,alpha=1)\n",
    "ax.set_title('Yelp Global Reviews Monthly (4 Weeks) Dynamics')\n",
    "ax.set_xlabel('Years')\n",
    "ax.set_ylabel('Number of Reviews / Month')\n"
   ]
  },
  {
   "cell_type": "code",
   "execution_count": 4,
   "metadata": {
    "collapsed": true
   },
   "outputs": [],
   "source": [
    "business_data = list(db.business.find())"
   ]
  },
  {
   "cell_type": "code",
   "execution_count": 5,
   "metadata": {
    "collapsed": false
   },
   "outputs": [
    {
     "data": {
      "text/html": [
       "<div>\n",
       "<table border=\"1\" class=\"dataframe\">\n",
       "  <thead>\n",
       "    <tr style=\"text-align: right;\">\n",
       "      <th></th>\n",
       "      <th>_id</th>\n",
       "      <th>attributes</th>\n",
       "      <th>business_id</th>\n",
       "      <th>categories</th>\n",
       "      <th>city</th>\n",
       "      <th>full_address</th>\n",
       "      <th>hours</th>\n",
       "      <th>latitude</th>\n",
       "      <th>longitude</th>\n",
       "      <th>name</th>\n",
       "      <th>neighborhoods</th>\n",
       "      <th>open</th>\n",
       "      <th>review_count</th>\n",
       "      <th>stars</th>\n",
       "      <th>state</th>\n",
       "      <th>type</th>\n",
       "    </tr>\n",
       "  </thead>\n",
       "  <tbody>\n",
       "    <tr>\n",
       "      <th>0</th>\n",
       "      <td>57712b737b99e72215506d99</td>\n",
       "      <td>{'Accepts Credit Cards': True, 'Good for Kids'...</td>\n",
       "      <td>5UmKMjUEUNdYWqANhGckJw</td>\n",
       "      <td>[Fast Food, Restaurants]</td>\n",
       "      <td>Dravosburg</td>\n",
       "      <td>4734 Lebanon Church Rd\\nDravosburg, PA 15034</td>\n",
       "      <td>{'Thursday': {'open': '11:00', 'close': '21:00...</td>\n",
       "      <td>40.354327</td>\n",
       "      <td>-79.900706</td>\n",
       "      <td>Mr Hoagie</td>\n",
       "      <td>[]</td>\n",
       "      <td>True</td>\n",
       "      <td>4</td>\n",
       "      <td>4.5</td>\n",
       "      <td>PA</td>\n",
       "      <td>business</td>\n",
       "    </tr>\n",
       "    <tr>\n",
       "      <th>1</th>\n",
       "      <td>57712b737b99e72215506d9a</td>\n",
       "      <td>{}</td>\n",
       "      <td>3eu6MEFlq2Dg7bQh8QbdOg</td>\n",
       "      <td>[Auto Repair, Automotive]</td>\n",
       "      <td>Dravosburg</td>\n",
       "      <td>1 Ravine St\\nDravosburg, PA 15034</td>\n",
       "      <td>{}</td>\n",
       "      <td>40.350956</td>\n",
       "      <td>-79.889059</td>\n",
       "      <td>Joe Cislo's Auto</td>\n",
       "      <td>[]</td>\n",
       "      <td>True</td>\n",
       "      <td>3</td>\n",
       "      <td>5.0</td>\n",
       "      <td>PA</td>\n",
       "      <td>business</td>\n",
       "    </tr>\n",
       "  </tbody>\n",
       "</table>\n",
       "</div>"
      ],
      "text/plain": [
       "                        _id  \\\n",
       "0  57712b737b99e72215506d99   \n",
       "1  57712b737b99e72215506d9a   \n",
       "\n",
       "                                          attributes             business_id  \\\n",
       "0  {'Accepts Credit Cards': True, 'Good for Kids'...  5UmKMjUEUNdYWqANhGckJw   \n",
       "1                                                 {}  3eu6MEFlq2Dg7bQh8QbdOg   \n",
       "\n",
       "                  categories        city  \\\n",
       "0   [Fast Food, Restaurants]  Dravosburg   \n",
       "1  [Auto Repair, Automotive]  Dravosburg   \n",
       "\n",
       "                                   full_address  \\\n",
       "0  4734 Lebanon Church Rd\\nDravosburg, PA 15034   \n",
       "1             1 Ravine St\\nDravosburg, PA 15034   \n",
       "\n",
       "                                               hours   latitude  longitude  \\\n",
       "0  {'Thursday': {'open': '11:00', 'close': '21:00...  40.354327 -79.900706   \n",
       "1                                                 {}  40.350956 -79.889059   \n",
       "\n",
       "               name neighborhoods  open  review_count  stars state      type  \n",
       "0         Mr Hoagie            []  True             4    4.5    PA  business  \n",
       "1  Joe Cislo's Auto            []  True             3    5.0    PA  business  "
      ]
     },
     "execution_count": 5,
     "metadata": {},
     "output_type": "execute_result"
    }
   ],
   "source": [
    "business_df = pd.DataFrame(business_data)\n",
    "business_data = []\n",
    "business_df.head(2)"
   ]
  },
  {
   "cell_type": "code",
   "execution_count": 6,
   "metadata": {
    "collapsed": false
   },
   "outputs": [
    {
     "data": {
      "text/plain": [
       "city\n",
       "Île des Soeurs            1\n",
       "Peoria                    1\n",
       "Fort mill                 1\n",
       "Penicuik                  1\n",
       "Ft. Mill                  1\n",
       "Oregon                    1\n",
       "Old Scottsdale            1\n",
       "Gilbert, AZ               1\n",
       "Glasgow                   1\n",
       "Phoenix                   1\n",
       "Old Montreal              1\n",
       "Glibert                   1\n",
       "North Scottsdale          1\n",
       "Golden Square Mile        1\n",
       "Goldfield                 1\n",
       "Grand Canyon              1\n",
       "Green Tree                1\n",
       "Green Valley              1\n",
       "North Las Vegas           1\n",
       "Glendale Az               1\n",
       "North Carolina            1\n",
       "Fort Kinnaird             1\n",
       "Phoenix Metro Area        1\n",
       "Regent Square             1\n",
       "Ratho                     1\n",
       "MMRP                      1\n",
       "Eagan                     1\n",
       "East Liberty              1\n",
       "Pointe Claire             1\n",
       "Pittsburrgh               1\n",
       "                      ...  \n",
       "Kitchener               188\n",
       "Laval                   196\n",
       "Middleton               208\n",
       "Cave Creek              229\n",
       "Fort Mill               238\n",
       "Urbana                  262\n",
       "Waterloo                262\n",
       "Matthews                346\n",
       "Queen Creek             348\n",
       "Avondale                386\n",
       "Goodyear                459\n",
       "Champaign               462\n",
       "Surprise                587\n",
       "North Las Vegas         819\n",
       "Karlsruhe               898\n",
       "Peoria                  929\n",
       "Gilbert                1716\n",
       "Glendale               1823\n",
       "Madison                2104\n",
       "Chandler               2425\n",
       "Tempe                  2773\n",
       "Henderson              2839\n",
       "Mesa                   3190\n",
       "Edinburgh              3272\n",
       "Pittsburgh             3337\n",
       "Montréal               3891\n",
       "Scottsdale             5139\n",
       "Charlotte              5189\n",
       "Phoenix               10629\n",
       "Las Vegas             17423\n",
       "dtype: int64"
      ]
     },
     "execution_count": 6,
     "metadata": {},
     "output_type": "execute_result"
    }
   ],
   "source": [
    "cities = business_df.groupby('city').size().sort_values()\n",
    "cities"
   ]
  },
  {
   "cell_type": "code",
   "execution_count": null,
   "metadata": {
    "collapsed": true
   },
   "outputs": [],
   "source": []
  },
  {
   "cell_type": "code",
   "execution_count": null,
   "metadata": {
    "collapsed": true
   },
   "outputs": [],
   "source": []
  }
 ],
 "metadata": {
  "kernelspec": {
   "display_name": "Python 3",
   "language": "python",
   "name": "python3"
  },
  "language_info": {
   "codemirror_mode": {
    "name": "ipython",
    "version": 3
   },
   "file_extension": ".py",
   "mimetype": "text/x-python",
   "name": "python",
   "nbconvert_exporter": "python",
   "pygments_lexer": "ipython3",
   "version": "3.5.1"
  }
 },
 "nbformat": 4,
 "nbformat_minor": 0
}
