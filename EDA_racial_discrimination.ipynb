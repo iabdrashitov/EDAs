{
 "cells": [
  {
   "cell_type": "markdown",
   "metadata": {},
   "source": [
    "\n",
    "### Examining racial discrimination in the US job market\n",
    "\n",
    "#### Background\n",
    "Racial discrimination continues to be pervasive in cultures throughout the world. Researchers examined the level of racial discrimination in the United States labor market by randomly assigning identical résumés black-sounding or white-sounding names and observing the impact on requests for interviews from employers.\n",
    "\n",
    "#### Data\n",
    "In the dataset provided, each row represents a resume. The 'race' column has two values, 'b' and 'w', indicating black-sounding and white-sounding. The column 'call' has two values, 1 and 0, indicating whether the resume received a call from employers or not.\n",
    "\n",
    "Note that the 'b' and 'w' values in race are assigned randomly to the resumes.\n",
    "\n",
    "#### Exercise\n",
    "You will perform a statistical analysis to establish whether race has a significant impact on the rate of callbacks for resumes.\n",
    "\n",
    "Answer the following questions **in this notebook below and submit to your Github account**. \n",
    "\n",
    "   1. What test is appropriate for this problem? Does CLT apply?\n",
    "   2. What are the null and alternate hypotheses?\n",
    "   3. Compute margin of error, confidence interval, and p-value.\n",
    "   4. Discuss statistical significance.\n",
    "\n",
    "You can include written notes in notebook cells using Markdown: \n",
    "   - In the control panel at the top, choose Cell > Cell Type > Markdown\n",
    "   - Markdown syntax: http://nestacms.com/docs/creating-content/markdown-cheat-sheet\n",
    "\n",
    "\n",
    "#### Resources\n",
    "+ Experiment information and data source: http://www.povertyactionlab.org/evaluation/discrimination-job-market-united-states\n",
    "+ Scipy statistical methods: http://docs.scipy.org/doc/scipy/reference/stats.html \n",
    "+ Markdown syntax: http://nestacms.com/docs/creating-content/markdown-cheat-sheet\n",
    "\n",
    "****"
   ]
  },
  {
   "cell_type": "code",
   "execution_count": 4,
   "metadata": {
    "collapsed": true
   },
   "outputs": [],
   "source": [
    "import math\n",
    "import pandas as pd\n",
    "import seaborn as sb\n",
    "import numpy\n",
    "import scipy.stats\n",
    "import matplotlib.pyplot as plt\n",
    "%matplotlib inline"
   ]
  },
  {
   "cell_type": "code",
   "execution_count": 5,
   "metadata": {
    "collapsed": false
   },
   "outputs": [],
   "source": [
    "data = pd.io.stata.read_stata('data/us_job_market_discrimination.dta')"
   ]
  },
  {
   "cell_type": "code",
   "execution_count": 6,
   "metadata": {
    "collapsed": false
   },
   "outputs": [
    {
     "data": {
      "text/plain": [
       "157.0"
      ]
     },
     "execution_count": 6,
     "metadata": {},
     "output_type": "execute_result"
    }
   ],
   "source": [
    "# number of callbacks for balck-sounding names\n",
    "sum(data[data.race=='b'].call)"
   ]
  },
  {
   "cell_type": "code",
   "execution_count": 28,
   "metadata": {
    "collapsed": false
   },
   "outputs": [],
   "source": [
    "racedistb = data[data.race=='b']\n",
    "racedistw = data[data.race=='w']"
   ]
  },
  {
   "cell_type": "code",
   "execution_count": 22,
   "metadata": {
    "collapsed": false
   },
   "outputs": [
    {
     "data": {
      "text/plain": [
       "<matplotlib.text.Text at 0x1a6e600f080>"
      ]
     },
     "execution_count": 22,
     "metadata": {},
     "output_type": "execute_result"
    },
    {
     "data": {
      "image/png": "[encoded data removed]",
      "text/plain": [
       "<matplotlib.figure.Figure at 0x1a6e5ef2cc0>"
      ]
     },
     "metadata": {},
     "output_type": "display_data"
    }
   ],
   "source": [
    "plt.figure()\n",
    "plt.hist(racedistb)\n",
    "plt.title('Proportion of calls recieved/not recieved by black candidates')"
   ]
  },
  {
   "cell_type": "code",
   "execution_count": 21,
   "metadata": {
    "collapsed": false
   },
   "outputs": [
    {
     "data": {
      "text/plain": [
       "<matplotlib.text.Text at 0x1a6e5f8d320>"
      ]
     },
     "execution_count": 21,
     "metadata": {},
     "output_type": "execute_result"
    },
    {
     "data": {
      "image/png": "[encoded data removed]",
      "text/plain": [
       "<matplotlib.figure.Figure at 0x1a6e5f67470>"
      ]
     },
     "metadata": {},
     "output_type": "display_data"
    }
   ],
   "source": [
    "plt.figure()\n",
    "plt.hist(racedistw)\n",
    "plt.title('Proportion of calls recieved/not recieved by white candidates')"
   ]
  },
  {
   "cell_type": "code",
   "execution_count": 61,
   "metadata": {
    "collapsed": false
   },
   "outputs": [
    {
     "name": "stdout",
     "output_type": "stream",
     "text": [
      "White candidates sample size: 2435\n",
      "White candidates that have recieved a call: 235\n",
      "White candidates that have not recieved a call: 2200\n",
      "Sample proportion for white candidates: 0.0965092402464\n",
      "Sample variance for white candidates: 3.5809119833e-05\n"
     ]
    }
   ],
   "source": [
    "# Finding sample proportions and variances of 2 samples:\n",
    "\n",
    "# White candidates sample\n",
    "print('White candidates sample size:', racedistw.call.count())\n",
    "print('White candidates that have recieved a call:', racedistw[racedistw.call == 1].call.count() )\n",
    "print('White candidates that have not recieved a call:', racedistw[racedistw.call == 0].call.count() )\n",
    "Pw = racedistw[racedistw.call == 1].call.count()/racedistw.call.count()\n",
    "print('Sample proportion for white candidates:', Pw)\n",
    "Sigw = (Pw*(1-Pw))/racedistw.call.count()\n",
    "print('Sample variance for white candidates:', Sigw)"
   ]
  },
  {
   "cell_type": "code",
   "execution_count": 62,
   "metadata": {
    "collapsed": false
   },
   "outputs": [
    {
     "name": "stdout",
     "output_type": "stream",
     "text": [
      "Black candidates sample size: 2435\n",
      "Black candidates that have recieved a call: 157\n",
      "Black candidates that have not recieved a call: 2278\n",
      "Sample proportion for black candidates: 0.0965092402464\n",
      "Sample variance for black candidates: 2.47717378565e-05\n"
     ]
    }
   ],
   "source": [
    "# Black candidates sample\n",
    "print('Black candidates sample size:', racedistb.call.count())\n",
    "print('Black candidates that have recieved a call:', racedistb[racedistb.call == 1].call.count() )\n",
    "print('Black candidates that have not recieved a call:', racedistb[racedistb.call == 0].call.count() )\n",
    "Pb = racedistb[racedistb.call == 1].call.count()/racedistb.call.count()\n",
    "print('Sample proportion for black candidates:', Pw)\n",
    "Sigb = (Pb*(1-Pb))/racedistb.call.count()\n",
    "print('Sample variance for black candidates:', Sigb)"
   ]
  },
  {
   "cell_type": "code",
   "execution_count": 70,
   "metadata": {
    "collapsed": false
   },
   "outputs": [
    {
     "name": "stdout",
     "output_type": "stream",
     "text": [
      "95% confidence interval for Pw - Pb lies within: 0.0167774478596  and  0.0472882605593\n"
     ]
    }
   ],
   "source": [
    "# Finding out is there is a significant diffrence in responce call between white and black candidates\n",
    "# Consider 95% confidence interval:\n",
    "\n",
    "Pdiff = Pw - Pb\n",
    "z_score = 1.96\n",
    "Sigdiff = math.sqrt(Sigw + Sigb)\n",
    "interval = z_score*Sigdiff\n",
    "print('95% confidence interval for Pw - Pb lies within:',Pdiff - interval, ' and ', Pdiff + interval)"
   ]
  },
  {
   "cell_type": "code",
   "execution_count": 84,
   "metadata": {
    "collapsed": false
   },
   "outputs": [
    {
     "data": {
      "text/plain": [
       "4.1084121524343464"
      ]
     },
     "execution_count": 84,
     "metadata": {},
     "output_type": "execute_result"
    }
   ],
   "source": [
    "# Hypothesis testing:\n",
    "\n",
    "# H0: there is no difference in responce calls for white and black candidates ==>> Pw-Pb = 0\n",
    "# H1: there is a difference in response calls for white and black candidates ==>> Pw-Pb != 0\n",
    "# Consider significance level 5%\n",
    "Ph0 = (racedistw[racedistw.call == 1].call.count() + racedistb[racedistb.call == 1].call.count())/(racedistb.call.count() + \n",
    "                                                                                                   racedistw.call.count())\n",
    "Sigp0 = math.sqrt((2*Ph0*(1-Ph0))/racedistw.call.count())\n",
    "z_scoreh0 = (Pdiff - 0)/Sigp0\n",
    "z_scoreh0\n",
    "# Reject H0 there is a difference in response calls between white and black candidates"
   ]
  },
  {
   "cell_type": "code",
   "execution_count": null,
   "metadata": {
    "collapsed": true
   },
   "outputs": [],
   "source": []
  },
  {
   "cell_type": "code",
   "execution_count": null,
   "metadata": {
    "collapsed": true
   },
   "outputs": [],
   "source": []
  }
 ],
 "metadata": {
  "kernelspec": {
   "display_name": "Python 3",
   "language": "python",
   "name": "python3"
  },
  "language_info": {
   "codemirror_mode": {
    "name": "ipython",
    "version": 3
   },
   "file_extension": ".py",
   "mimetype": "text/x-python",
   "name": "python",
   "nbconvert_exporter": "python",
   "pygments_lexer": "ipython3",
   "version": "3.5.1"
  }
 },
 "nbformat": 4,
 "nbformat_minor": 0
}
