{
 "cells": [
  {
   "cell_type": "markdown",
   "metadata": {},
   "source": [
    "## What is the true normal human body temperature? \n",
    "\n",
    "#### Background\n",
    "\n",
    "The mean normal body temperature was held to be 37$^{\\circ}$C or 98.6$^{\\circ}$F for more than 120 years since it was first conceptualized and reported by Carl Wunderlich in a famous 1868 book. In 1992, this value was revised to 36.8$^{\\circ}$C or 98.2$^{\\circ}$F. \n",
    "\n",
    "\n",
    "#### Resources\n",
    "\n",
    "+ Information and data sources: http://www.amstat.org/publications/jse/datasets/normtemp.txt, http://www.amstat.org/publications/jse/jse_data_archive.htm\n",
    "\n",
    "\n",
    "****"
   ]
  },
  {
   "cell_type": "code",
   "execution_count": 3,
   "metadata": {
    "collapsed": true
   },
   "outputs": [],
   "source": [
    "import math\n",
    "import pandas as pd\n",
    "import seaborn as sb\n",
    "import numpy\n",
    "import scipy.stats\n",
    "import matplotlib.pyplot as plt\n",
    "%matplotlib inline"
   ]
  },
  {
   "cell_type": "code",
   "execution_count": 4,
   "metadata": {
    "collapsed": false
   },
   "outputs": [
    {
     "data": {
      "text/html": [
       "<div>\n",
       "<table border=\"1\" class=\"dataframe\">\n",
       "  <thead>\n",
       "    <tr style=\"text-align: right;\">\n",
       "      <th></th>\n",
       "      <th>temperature</th>\n",
       "      <th>gender</th>\n",
       "      <th>heart_rate</th>\n",
       "    </tr>\n",
       "  </thead>\n",
       "  <tbody>\n",
       "    <tr>\n",
       "      <th>0</th>\n",
       "      <td>99.3</td>\n",
       "      <td>F</td>\n",
       "      <td>68.0</td>\n",
       "    </tr>\n",
       "  </tbody>\n",
       "</table>\n",
       "</div>"
      ],
      "text/plain": [
       "   temperature gender  heart_rate\n",
       "0         99.3      F        68.0"
      ]
     },
     "execution_count": 4,
     "metadata": {},
     "output_type": "execute_result"
    }
   ],
   "source": [
    "df = pd.read_csv('data/human_body_temperature.csv')\n",
    "df.head(1)\n"
   ]
  },
  {
   "cell_type": "markdown",
   "metadata": {
    "collapsed": true
   },
   "source": [
    "# Checking whether the sample distribution of body temperature is normal"
   ]
  },
  {
   "cell_type": "code",
   "execution_count": 5,
   "metadata": {
    "collapsed": false
   },
   "outputs": [
    {
     "data": {
      "image/png": "[encoded data removed]",
      "text/plain": [
       "<matplotlib.figure.Figure at 0x24be304d2b0>"
      ]
     },
     "metadata": {},
     "output_type": "display_data"
    }
   ],
   "source": [
    "# Building test normal distribution\n",
    "testDist = numpy.array([(numpy.random.normal(loc=0.0, scale=1.0, size=None)) for i in range(1000000)])\n",
    "plt.figure()\n",
    "plt.hist(testDist, 100);\n",
    "plt.title('Test normal distribution')\n",
    "pvSl = 0.05 # setting significance level of 5%"
   ]
  },
  {
   "cell_type": "code",
   "execution_count": 6,
   "metadata": {
    "collapsed": false
   },
   "outputs": [
    {
     "name": "stdout",
     "output_type": "stream",
     "text": [
      "Test distribution is normal\n"
     ]
    }
   ],
   "source": [
    "# Testing the distribution for normality. In facct we already know it is normal. This is to check if the code gives the\n",
    "# right results\n",
    "if scipy.stats.mstats.normaltest(testDist, axis=None).pvalue >= pvSl:\n",
    "    print (\"Test distribution is normal\")  \n",
    "else:\n",
    "    print(\"Test distribution is NOT normal\")"
   ]
  },
  {
   "cell_type": "code",
   "execution_count": 7,
   "metadata": {
    "collapsed": false
   },
   "outputs": [
    {
     "data": {
      "text/plain": [
       "<matplotlib.text.Text at 0x24be35be080>"
      ]
     },
     "execution_count": 7,
     "metadata": {},
     "output_type": "execute_result"
    },
    {
     "data": {
      "image/png": "[encoded data removed]",
      "text/plain": [
       "<matplotlib.figure.Figure at 0x24be45ba7f0>"
      ]
     },
     "metadata": {},
     "output_type": "display_data"
    }
   ],
   "source": [
    "# Building temperature sample distribution of both Males and Females in the data set and testining it for being normal or not\n",
    "plt.figure()\n",
    "plt.hist(df.temperature);\n",
    "plt.title('Males and Females temperature distribution')"
   ]
  },
  {
   "cell_type": "code",
   "execution_count": 8,
   "metadata": {
    "collapsed": false
   },
   "outputs": [
    {
     "name": "stdout",
     "output_type": "stream",
     "text": [
      "Male and Female temperature sample distribution is normal\n"
     ]
    }
   ],
   "source": [
    "if scipy.stats.mstats.normaltest(df.temperature, axis=None).pvalue >= pvSl:\n",
    "    print (\"Male and Female temperature sample distribution is normal\")\n",
    "else:\n",
    "    print(\"Male and Female temperature sample distribution is NOT normal\")"
   ]
  },
  {
   "cell_type": "markdown",
   "metadata": {},
   "source": [
    "\n",
    "# Is the true population mean really 98.6 degrees F?"
   ]
  },
  {
   "cell_type": "code",
   "execution_count": 9,
   "metadata": {
    "collapsed": false
   },
   "outputs": [
    {
     "data": {
      "text/plain": [
       "count    130.000000\n",
       "mean      98.249231\n",
       "std        0.733183\n",
       "min       96.300000\n",
       "25%       97.800000\n",
       "50%       98.300000\n",
       "75%       98.700000\n",
       "max      100.800000\n",
       "Name: temperature, dtype: float64"
      ]
     },
     "execution_count": 9,
     "metadata": {},
     "output_type": "execute_result"
    }
   ],
   "source": [
    "df.temperature.describe() # Getting intial stats for the sample\n"
   ]
  },
  {
   "cell_type": "code",
   "execution_count": 10,
   "metadata": {
    "collapsed": true
   },
   "outputs": [],
   "source": [
    "# H0: the population mean is 98.6F => sample distribution mean = 98.6\n",
    "#H1: the population mean is not 98.6F =>  sample distribution mean != 98.6\n",
    "# Assume: H0 = True\n",
    "# Sample size = 130 (130>30 ==>> Z statistic)"
   ]
  },
  {
   "cell_type": "code",
   "execution_count": 11,
   "metadata": {
    "collapsed": false
   },
   "outputs": [
    {
     "data": {
      "text/plain": [
       "0.064"
      ]
     },
     "execution_count": 11,
     "metadata": {},
     "output_type": "execute_result"
    }
   ],
   "source": [
    "# Standard deviaton of the sampling distribution\n",
    "sigSD = (df.temperature.std())/(math.sqrt(df.temperature.count()))\n",
    "sigSD = round(sigSD, 3)\n",
    "sigSD\n"
   ]
  },
  {
   "cell_type": "code",
   "execution_count": 12,
   "metadata": {
    "collapsed": false
   },
   "outputs": [
    {
     "name": "stdout",
     "output_type": "stream",
     "text": [
      "z-score 5 p-value 5.73303143758e-07\n"
     ]
    }
   ],
   "source": [
    "# Z-score\n",
    "z = (98.6 - df.temperature.mean())/sigSD\n",
    "z = round(z)\n",
    "z # the probobility of getting 98.2 result by chance is very small (more than 5 stds away from the mean) \n",
    "p_value = scipy.stats.norm.sf(abs(z))*2\n",
    "print('z-score',z,'p-value',p_value)\n",
    "\n",
    "# Reject H0 ==>> the population mean is most likely not 98.6 F"
   ]
  },
  {
   "cell_type": "markdown",
   "metadata": {},
   "source": [
    "# What temperature should be considered as abnormal?"
   ]
  },
  {
   "cell_type": "code",
   "execution_count": 13,
   "metadata": {
    "collapsed": true
   },
   "outputs": [],
   "source": [
    "# Assume temperature which falls beyond 95% confidence interval as abnormal\n",
    "# As the sample size is 130 Z-distribution is used. Using Z table it has been identified that 95% confidence inteval lies \n",
    "# between 98.07 and 98.32 F with 98.2F mean"
   ]
  },
  {
   "cell_type": "code",
   "execution_count": 14,
   "metadata": {
    "collapsed": false
   },
   "outputs": [
    {
     "data": {
      "text/plain": [
       "<matplotlib.text.Text at 0x24be322be10>"
      ]
     },
     "execution_count": 14,
     "metadata": {},
     "output_type": "execute_result"
    },
    {
     "data": {
      "image/png": "[encoded data removed]",
      "text/plain": [
       "<matplotlib.figure.Figure at 0x24be316ce80>"
      ]
     },
     "metadata": {},
     "output_type": "display_data"
    }
   ],
   "source": [
    "# Getting a distribution of all abnormal temperatures in the sample\n",
    "temp_abnormal = df[(df.temperature < 98.7) & (df.temperature > 98.32)]\n",
    "plt.figure()\n",
    "plt.hist(temp_abnormal.temperature);\n",
    "plt.title('Males and Females abnormal temperature distribution')\n"
   ]
  },
  {
   "cell_type": "markdown",
   "metadata": {},
   "source": [
    "# Find if there a significant difference between males and females in normal temperature:"
   ]
  },
  {
   "cell_type": "code",
   "execution_count": 39,
   "metadata": {
    "collapsed": false
   },
   "outputs": [
    {
     "data": {
      "text/plain": [
       "count    65.000000\n",
       "mean     98.104615\n",
       "std       0.698756\n",
       "min      96.300000\n",
       "25%      97.600000\n",
       "50%      98.100000\n",
       "75%      98.600000\n",
       "max      99.500000\n",
       "Name: temperature, dtype: float64"
      ]
     },
     "execution_count": 39,
     "metadata": {},
     "output_type": "execute_result"
    }
   ],
   "source": [
    "tmale = df.temperature[df.gender == 'M']\n",
    "tfemale = df.temperature[df.gender == 'F']\n",
    "tmale.describe() # Get stats for Male sample "
   ]
  },
  {
   "cell_type": "code",
   "execution_count": 40,
   "metadata": {
    "collapsed": false
   },
   "outputs": [
    {
     "data": {
      "text/plain": [
       "count     65.000000\n",
       "mean      98.393846\n",
       "std        0.743488\n",
       "min       96.400000\n",
       "25%       98.000000\n",
       "50%       98.400000\n",
       "75%       98.800000\n",
       "max      100.800000\n",
       "Name: temperature, dtype: float64"
      ]
     },
     "execution_count": 40,
     "metadata": {},
     "output_type": "execute_result"
    }
   ],
   "source": [
    "tfemale.describe() # Get stats for Female sample"
   ]
  },
  {
   "cell_type": "code",
   "execution_count": 43,
   "metadata": {
    "collapsed": false
   },
   "outputs": [
    {
     "data": {
      "text/plain": [
       "<matplotlib.text.Text at 0x24be3ab1550>"
      ]
     },
     "execution_count": 43,
     "metadata": {},
     "output_type": "execute_result"
    },
    {
     "data": {
      "image/png": "[encoded data removed]",
      "text/plain": [
       "<matplotlib.figure.Figure at 0x24be3a72668>"
      ]
     },
     "metadata": {},
     "output_type": "display_data"
    }
   ],
   "source": [
    "plt.hist(tfemale)\n",
    "plt.title('Female temperature sample distribution')\n"
   ]
  },
  {
   "cell_type": "code",
   "execution_count": 45,
   "metadata": {
    "collapsed": false
   },
   "outputs": [
    {
     "data": {
      "text/plain": [
       "<matplotlib.text.Text at 0x24be3b9e550>"
      ]
     },
     "execution_count": 45,
     "metadata": {},
     "output_type": "execute_result"
    },
    {
     "data": {
      "image/png": "[encoded data removed]",
      "text/plain": [
       "<matplotlib.figure.Figure at 0x24be3b71550>"
      ]
     },
     "metadata": {},
     "output_type": "display_data"
    }
   ],
   "source": [
    "plt.hist(tmale)\n",
    "plt.title('Male temperature sample distribution')"
   ]
  },
  {
   "cell_type": "code",
   "execution_count": 58,
   "metadata": {
    "collapsed": false
   },
   "outputs": [
    {
     "name": "stdout",
     "output_type": "stream",
     "text": [
      "Confidence interval lies between (95% chance that the true mean of the distribution lies whithin) 0.0411850264078672 0.5372765120535867\n"
     ]
    }
   ],
   "source": [
    "# Calculating difference in means between Females and Males, identifying z-score (from z-table), calculate confidence interval\n",
    "F_M = tfemale.mean() - tmale.mean()\n",
    "# Set 95% 2 tailed confidence interval\n",
    "z_score = 1.96\n",
    "Sig_MF = math.sqrt((math.pow(tfemale.std(),2))/tfemale.count() + (math.pow(tmale.std(),2))/tmale.count())\n",
    "interval = Sig_MF*z_score\n",
    "print('Confidence interval lies between (95% chance that the true mean of the distribution lies whithin)', F_M-interval, F_M+interval)\n"
   ]
  },
  {
   "cell_type": "code",
   "execution_count": 66,
   "metadata": {
    "collapsed": false
   },
   "outputs": [
    {
     "name": "stdout",
     "output_type": "stream",
     "text": [
      "H0 >> rejected there is a difference in temperatures\n"
     ]
    }
   ],
   "source": [
    "# Temperature difference hypothesis testing\n",
    "# H0: there is no difference in temperatures between Females and Males ==>> tfemale.mean() - tmale.mean() = 0\n",
    "# H1: there is a difference in temperatures between Females and Males ==>> tfemale.mean() - tmale.mean != 0\n",
    "sig_lvl = 0.05\n",
    "z_score = 1.65\n",
    "interval = z_score*Sig_MF\n",
    "if interval <= F_M:\n",
    "    print('H0 >> rejected there is a difference in temperatures')\n",
    "else:\n",
    "    print('H0>> valid there is no difference in temperatures')"
   ]
  }
 ],
 "metadata": {
  "kernelspec": {
   "display_name": "Python 3",
   "language": "python",
   "name": "python3"
  },
  "language_info": {
   "codemirror_mode": {
    "name": "ipython",
    "version": 3
   },
   "file_extension": ".py",
   "mimetype": "text/x-python",
   "name": "python",
   "nbconvert_exporter": "python",
   "pygments_lexer": "ipython3",
   "version": "3.5.1"
  }
 },
 "nbformat": 4,
 "nbformat_minor": 0
}
