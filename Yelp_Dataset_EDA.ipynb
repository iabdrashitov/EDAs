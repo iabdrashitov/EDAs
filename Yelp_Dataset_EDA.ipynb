{
 "cells": [
  {
   "cell_type": "code",
   "execution_count": 1,
   "metadata": {
    "collapsed": false
   },
   "outputs": [],
   "source": [
    "import matplotlib.pyplot as plt\n",
    "import seaborn as sb\n",
    "import pandas as pd\n",
    "from pandas.io.json import json_normalize\n",
    "import json\n",
    "import pymongo\n",
    "import pprint\n",
    "from pymongo import MongoClient\n",
    "%matplotlib inline"
   ]
  },
  {
   "cell_type": "markdown",
   "metadata": {},
   "source": [
    "## Connecting to the yelp data base"
   ]
  },
  {
   "cell_type": "code",
   "execution_count": 5,
   "metadata": {
    "collapsed": false
   },
   "outputs": [
    {
     "name": "stdout",
     "output_type": "stream",
     "text": [
      "...Connected\n"
     ]
    }
   ],
   "source": [
    "client = MongoClient('mongodb://localhost:27017')\n",
    "db = client.yelp\n",
    "con_check = str(db)\n",
    "if con_check.find('yelp') != int(-1):\n",
    "    print('...Connected')\n",
    "else:\n",
    "    print('...Connection Failed')\n"
   ]
  },
  {
   "cell_type": "markdown",
   "metadata": {},
   "source": [
    "## Exploring business collection in the yelp DB "
   ]
  },
  {
   "cell_type": "code",
   "execution_count": 6,
   "metadata": {
    "collapsed": false
   },
   "outputs": [
    {
     "data": {
      "text/html": [
       "<div>\n",
       "<table border=\"1\" class=\"dataframe\">\n",
       "  <thead>\n",
       "    <tr style=\"text-align: right;\">\n",
       "      <th></th>\n",
       "      <th>_id</th>\n",
       "      <th>attributes</th>\n",
       "      <th>business_id</th>\n",
       "      <th>categories</th>\n",
       "      <th>city</th>\n",
       "      <th>full_address</th>\n",
       "      <th>hours</th>\n",
       "      <th>latitude</th>\n",
       "      <th>longitude</th>\n",
       "      <th>name</th>\n",
       "      <th>neighborhoods</th>\n",
       "      <th>open</th>\n",
       "      <th>review_count</th>\n",
       "      <th>stars</th>\n",
       "      <th>state</th>\n",
       "      <th>type</th>\n",
       "    </tr>\n",
       "  </thead>\n",
       "  <tbody>\n",
       "    <tr>\n",
       "      <th>0</th>\n",
       "      <td>57712b737b99e72215506d99</td>\n",
       "      <td>{'Has TV': False, 'Attire': 'casual', 'Takes R...</td>\n",
       "      <td>5UmKMjUEUNdYWqANhGckJw</td>\n",
       "      <td>[Fast Food, Restaurants]</td>\n",
       "      <td>Dravosburg</td>\n",
       "      <td>4734 Lebanon Church Rd\\nDravosburg, PA 15034</td>\n",
       "      <td>{'Monday': {'close': '21:00', 'open': '11:00'}...</td>\n",
       "      <td>40.354327</td>\n",
       "      <td>-79.900706</td>\n",
       "      <td>Mr Hoagie</td>\n",
       "      <td>[]</td>\n",
       "      <td>True</td>\n",
       "      <td>4</td>\n",
       "      <td>4.5</td>\n",
       "      <td>PA</td>\n",
       "      <td>business</td>\n",
       "    </tr>\n",
       "    <tr>\n",
       "      <th>1</th>\n",
       "      <td>57712b737b99e72215506d9a</td>\n",
       "      <td>{}</td>\n",
       "      <td>3eu6MEFlq2Dg7bQh8QbdOg</td>\n",
       "      <td>[Auto Repair, Automotive]</td>\n",
       "      <td>Dravosburg</td>\n",
       "      <td>1 Ravine St\\nDravosburg, PA 15034</td>\n",
       "      <td>{}</td>\n",
       "      <td>40.350956</td>\n",
       "      <td>-79.889059</td>\n",
       "      <td>Joe Cislo's Auto</td>\n",
       "      <td>[]</td>\n",
       "      <td>True</td>\n",
       "      <td>3</td>\n",
       "      <td>5.0</td>\n",
       "      <td>PA</td>\n",
       "      <td>business</td>\n",
       "    </tr>\n",
       "  </tbody>\n",
       "</table>\n",
       "</div>"
      ],
      "text/plain": [
       "                        _id  \\\n",
       "0  57712b737b99e72215506d99   \n",
       "1  57712b737b99e72215506d9a   \n",
       "\n",
       "                                          attributes             business_id  \\\n",
       "0  {'Has TV': False, 'Attire': 'casual', 'Takes R...  5UmKMjUEUNdYWqANhGckJw   \n",
       "1                                                 {}  3eu6MEFlq2Dg7bQh8QbdOg   \n",
       "\n",
       "                  categories        city  \\\n",
       "0   [Fast Food, Restaurants]  Dravosburg   \n",
       "1  [Auto Repair, Automotive]  Dravosburg   \n",
       "\n",
       "                                   full_address  \\\n",
       "0  4734 Lebanon Church Rd\\nDravosburg, PA 15034   \n",
       "1             1 Ravine St\\nDravosburg, PA 15034   \n",
       "\n",
       "                                               hours   latitude  longitude  \\\n",
       "0  {'Monday': {'close': '21:00', 'open': '11:00'}...  40.354327 -79.900706   \n",
       "1                                                 {}  40.350956 -79.889059   \n",
       "\n",
       "               name neighborhoods  open  review_count  stars state      type  \n",
       "0         Mr Hoagie            []  True             4    4.5    PA  business  \n",
       "1  Joe Cislo's Auto            []  True             3    5.0    PA  business  "
      ]
     },
     "execution_count": 6,
     "metadata": {},
     "output_type": "execute_result"
    }
   ],
   "source": [
    "# Building a small exploratory data frame limiting to 2 objects\n",
    "business_data = list(db.business.find().limit(2))\n",
    "business_df = pd.DataFrame(business_data)\n",
    "business_df\n",
    "\n"
   ]
  },
  {
   "cell_type": "code",
   "execution_count": 7,
   "metadata": {
    "collapsed": false
   },
   "outputs": [
    {
     "data": {
      "text/html": [
       "<div>\n",
       "<table border=\"1\" class=\"dataframe\">\n",
       "  <thead>\n",
       "    <tr style=\"text-align: right;\">\n",
       "      <th></th>\n",
       "      <th>_id</th>\n",
       "      <th>attributes.Accepts Credit Cards</th>\n",
       "      <th>attributes.Alcohol</th>\n",
       "      <th>attributes.Ambience.casual</th>\n",
       "      <th>attributes.Ambience.classy</th>\n",
       "      <th>attributes.Ambience.divey</th>\n",
       "      <th>attributes.Ambience.hipster</th>\n",
       "      <th>attributes.Ambience.intimate</th>\n",
       "      <th>attributes.Ambience.romantic</th>\n",
       "      <th>attributes.Ambience.touristy</th>\n",
       "      <th>...</th>\n",
       "      <th>hours.Wednesday.open</th>\n",
       "      <th>latitude</th>\n",
       "      <th>longitude</th>\n",
       "      <th>name</th>\n",
       "      <th>neighborhoods</th>\n",
       "      <th>open</th>\n",
       "      <th>review_count</th>\n",
       "      <th>stars</th>\n",
       "      <th>state</th>\n",
       "      <th>type</th>\n",
       "    </tr>\n",
       "  </thead>\n",
       "  <tbody>\n",
       "    <tr>\n",
       "      <th>0</th>\n",
       "      <td>57712b737b99e72215506d99</td>\n",
       "      <td>True</td>\n",
       "      <td>none</td>\n",
       "      <td>False</td>\n",
       "      <td>False</td>\n",
       "      <td>False</td>\n",
       "      <td>False</td>\n",
       "      <td>False</td>\n",
       "      <td>False</td>\n",
       "      <td>False</td>\n",
       "      <td>...</td>\n",
       "      <td>11:00</td>\n",
       "      <td>40.354327</td>\n",
       "      <td>-79.900706</td>\n",
       "      <td>Mr Hoagie</td>\n",
       "      <td>[]</td>\n",
       "      <td>True</td>\n",
       "      <td>4</td>\n",
       "      <td>4.5</td>\n",
       "      <td>PA</td>\n",
       "      <td>business</td>\n",
       "    </tr>\n",
       "    <tr>\n",
       "      <th>1</th>\n",
       "      <td>57712b737b99e72215506d9a</td>\n",
       "      <td>NaN</td>\n",
       "      <td>NaN</td>\n",
       "      <td>NaN</td>\n",
       "      <td>NaN</td>\n",
       "      <td>NaN</td>\n",
       "      <td>NaN</td>\n",
       "      <td>NaN</td>\n",
       "      <td>NaN</td>\n",
       "      <td>NaN</td>\n",
       "      <td>...</td>\n",
       "      <td>NaN</td>\n",
       "      <td>40.350956</td>\n",
       "      <td>-79.889059</td>\n",
       "      <td>Joe Cislo's Auto</td>\n",
       "      <td>[]</td>\n",
       "      <td>True</td>\n",
       "      <td>3</td>\n",
       "      <td>5.0</td>\n",
       "      <td>PA</td>\n",
       "      <td>business</td>\n",
       "    </tr>\n",
       "  </tbody>\n",
       "</table>\n",
       "<p>2 rows × 59 columns</p>\n",
       "</div>"
      ],
      "text/plain": [
       "                        _id attributes.Accepts Credit Cards  \\\n",
       "0  57712b737b99e72215506d99                            True   \n",
       "1  57712b737b99e72215506d9a                             NaN   \n",
       "\n",
       "  attributes.Alcohol attributes.Ambience.casual attributes.Ambience.classy  \\\n",
       "0               none                      False                      False   \n",
       "1                NaN                        NaN                        NaN   \n",
       "\n",
       "  attributes.Ambience.divey attributes.Ambience.hipster  \\\n",
       "0                     False                       False   \n",
       "1                       NaN                         NaN   \n",
       "\n",
       "  attributes.Ambience.intimate attributes.Ambience.romantic  \\\n",
       "0                        False                        False   \n",
       "1                          NaN                          NaN   \n",
       "\n",
       "  attributes.Ambience.touristy    ...    hours.Wednesday.open   latitude  \\\n",
       "0                        False    ...                   11:00  40.354327   \n",
       "1                          NaN    ...                     NaN  40.350956   \n",
       "\n",
       "   longitude              name neighborhoods  open review_count stars state  \\\n",
       "0 -79.900706         Mr Hoagie            []  True            4   4.5    PA   \n",
       "1 -79.889059  Joe Cislo's Auto            []  True            3   5.0    PA   \n",
       "\n",
       "       type  \n",
       "0  business  \n",
       "1  business  \n",
       "\n",
       "[2 rows x 59 columns]"
      ]
     },
     "execution_count": 7,
     "metadata": {},
     "output_type": "execute_result"
    }
   ],
   "source": [
    "# Normalized data frame\n",
    "business_norm_df = pd.DataFrame(json_normalize(business_data)) \n",
    "business_norm_df\n"
   ]
  },
  {
   "cell_type": "markdown",
   "metadata": {},
   "source": [
    "## Exploring checkin collection in the yelp DB"
   ]
  },
  {
   "cell_type": "code",
   "execution_count": 8,
   "metadata": {
    "collapsed": false
   },
   "outputs": [
    {
     "data": {
      "text/html": [
       "<div>\n",
       "<table border=\"1\" class=\"dataframe\">\n",
       "  <thead>\n",
       "    <tr style=\"text-align: right;\">\n",
       "      <th></th>\n",
       "      <th>_id</th>\n",
       "      <th>business_id</th>\n",
       "      <th>checkin_info</th>\n",
       "      <th>type</th>\n",
       "    </tr>\n",
       "  </thead>\n",
       "  <tbody>\n",
       "    <tr>\n",
       "      <th>0</th>\n",
       "      <td>57712baa7b99e72215519c1e</td>\n",
       "      <td>mVHrayjG3uZ_RLHkLj-AMg</td>\n",
       "      <td>{'15-1': 1, '10-5': 1, '21-4': 1, '11-5': 1, '...</td>\n",
       "      <td>checkin</td>\n",
       "    </tr>\n",
       "    <tr>\n",
       "      <th>1</th>\n",
       "      <td>57712baa7b99e72215519c1f</td>\n",
       "      <td>b12U9TFESStdy7CsTtcOeg</td>\n",
       "      <td>{'5-1': 2, '5-5': 2, '8-2': 1}</td>\n",
       "      <td>checkin</td>\n",
       "    </tr>\n",
       "  </tbody>\n",
       "</table>\n",
       "</div>"
      ],
      "text/plain": [
       "                        _id             business_id  \\\n",
       "0  57712baa7b99e72215519c1e  mVHrayjG3uZ_RLHkLj-AMg   \n",
       "1  57712baa7b99e72215519c1f  b12U9TFESStdy7CsTtcOeg   \n",
       "\n",
       "                                        checkin_info     type  \n",
       "0  {'15-1': 1, '10-5': 1, '21-4': 1, '11-5': 1, '...  checkin  \n",
       "1                     {'5-1': 2, '5-5': 2, '8-2': 1}  checkin  "
      ]
     },
     "execution_count": 8,
     "metadata": {},
     "output_type": "execute_result"
    }
   ],
   "source": [
    "# Building a small exploratory data frame limiting to 2 objects\n",
    "checkin_data = list(db.checkin.find().limit(2))\n",
    "checkin_df = pd.DataFrame(checkin_data)\n",
    "checkin_df"
   ]
  },
  {
   "cell_type": "code",
   "execution_count": 9,
   "metadata": {
    "collapsed": false
   },
   "outputs": [
    {
     "data": {
      "text/html": [
       "<div>\n",
       "<table border=\"1\" class=\"dataframe\">\n",
       "  <thead>\n",
       "    <tr style=\"text-align: right;\">\n",
       "      <th></th>\n",
       "      <th>_id</th>\n",
       "      <th>business_id</th>\n",
       "      <th>checkin_info.10-4</th>\n",
       "      <th>checkin_info.10-5</th>\n",
       "      <th>checkin_info.11-5</th>\n",
       "      <th>checkin_info.12-1</th>\n",
       "      <th>checkin_info.12-5</th>\n",
       "      <th>checkin_info.13-1</th>\n",
       "      <th>checkin_info.14-4</th>\n",
       "      <th>checkin_info.15-0</th>\n",
       "      <th>...</th>\n",
       "      <th>checkin_info.16-2</th>\n",
       "      <th>checkin_info.17-4</th>\n",
       "      <th>checkin_info.21-4</th>\n",
       "      <th>checkin_info.22-5</th>\n",
       "      <th>checkin_info.5-1</th>\n",
       "      <th>checkin_info.5-5</th>\n",
       "      <th>checkin_info.8-2</th>\n",
       "      <th>checkin_info.9-4</th>\n",
       "      <th>checkin_info.9-5</th>\n",
       "      <th>type</th>\n",
       "    </tr>\n",
       "  </thead>\n",
       "  <tbody>\n",
       "    <tr>\n",
       "      <th>0</th>\n",
       "      <td>57712baa7b99e72215519c1e</td>\n",
       "      <td>mVHrayjG3uZ_RLHkLj-AMg</td>\n",
       "      <td>3.0</td>\n",
       "      <td>1.0</td>\n",
       "      <td>1.0</td>\n",
       "      <td>1.0</td>\n",
       "      <td>2.0</td>\n",
       "      <td>1.0</td>\n",
       "      <td>2.0</td>\n",
       "      <td>1.0</td>\n",
       "      <td>...</td>\n",
       "      <td>1.0</td>\n",
       "      <td>1.0</td>\n",
       "      <td>1.0</td>\n",
       "      <td>1.0</td>\n",
       "      <td>NaN</td>\n",
       "      <td>NaN</td>\n",
       "      <td>NaN</td>\n",
       "      <td>3.0</td>\n",
       "      <td>1.0</td>\n",
       "      <td>checkin</td>\n",
       "    </tr>\n",
       "    <tr>\n",
       "      <th>1</th>\n",
       "      <td>57712baa7b99e72215519c1f</td>\n",
       "      <td>b12U9TFESStdy7CsTtcOeg</td>\n",
       "      <td>NaN</td>\n",
       "      <td>NaN</td>\n",
       "      <td>NaN</td>\n",
       "      <td>NaN</td>\n",
       "      <td>NaN</td>\n",
       "      <td>NaN</td>\n",
       "      <td>NaN</td>\n",
       "      <td>NaN</td>\n",
       "      <td>...</td>\n",
       "      <td>NaN</td>\n",
       "      <td>NaN</td>\n",
       "      <td>NaN</td>\n",
       "      <td>NaN</td>\n",
       "      <td>2.0</td>\n",
       "      <td>2.0</td>\n",
       "      <td>1.0</td>\n",
       "      <td>NaN</td>\n",
       "      <td>NaN</td>\n",
       "      <td>checkin</td>\n",
       "    </tr>\n",
       "  </tbody>\n",
       "</table>\n",
       "<p>2 rows × 22 columns</p>\n",
       "</div>"
      ],
      "text/plain": [
       "                        _id             business_id  checkin_info.10-4  \\\n",
       "0  57712baa7b99e72215519c1e  mVHrayjG3uZ_RLHkLj-AMg                3.0   \n",
       "1  57712baa7b99e72215519c1f  b12U9TFESStdy7CsTtcOeg                NaN   \n",
       "\n",
       "   checkin_info.10-5  checkin_info.11-5  checkin_info.12-1  checkin_info.12-5  \\\n",
       "0                1.0                1.0                1.0                2.0   \n",
       "1                NaN                NaN                NaN                NaN   \n",
       "\n",
       "   checkin_info.13-1  checkin_info.14-4  checkin_info.15-0   ...     \\\n",
       "0                1.0                2.0                1.0   ...      \n",
       "1                NaN                NaN                NaN   ...      \n",
       "\n",
       "   checkin_info.16-2  checkin_info.17-4  checkin_info.21-4  checkin_info.22-5  \\\n",
       "0                1.0                1.0                1.0                1.0   \n",
       "1                NaN                NaN                NaN                NaN   \n",
       "\n",
       "   checkin_info.5-1  checkin_info.5-5  checkin_info.8-2  checkin_info.9-4  \\\n",
       "0               NaN               NaN               NaN               3.0   \n",
       "1               2.0               2.0               1.0               NaN   \n",
       "\n",
       "   checkin_info.9-5     type  \n",
       "0               1.0  checkin  \n",
       "1               NaN  checkin  \n",
       "\n",
       "[2 rows x 22 columns]"
      ]
     },
     "execution_count": 9,
     "metadata": {},
     "output_type": "execute_result"
    }
   ],
   "source": [
    "# Normalized data frame\n",
    "checkin_norm_df = pd.DataFrame(json_normalize(checkin_data)) \n",
    "checkin_norm_df"
   ]
  },
  {
   "cell_type": "markdown",
   "metadata": {
    "collapsed": true
   },
   "source": [
    "## Exploring review collection in the yelp DB"
   ]
  },
  {
   "cell_type": "code",
   "execution_count": 10,
   "metadata": {
    "collapsed": false
   },
   "outputs": [
    {
     "data": {
      "text/html": [
       "<div>\n",
       "<table border=\"1\" class=\"dataframe\">\n",
       "  <thead>\n",
       "    <tr style=\"text-align: right;\">\n",
       "      <th></th>\n",
       "      <th>_id</th>\n",
       "      <th>business_id</th>\n",
       "      <th>date</th>\n",
       "      <th>review_id</th>\n",
       "      <th>stars</th>\n",
       "      <th>text</th>\n",
       "      <th>type</th>\n",
       "      <th>user_id</th>\n",
       "      <th>votes</th>\n",
       "    </tr>\n",
       "  </thead>\n",
       "  <tbody>\n",
       "    <tr>\n",
       "      <th>0</th>\n",
       "      <td>57712bd37b99e7221552752f</td>\n",
       "      <td>5UmKMjUEUNdYWqANhGckJw</td>\n",
       "      <td>2012-08-01</td>\n",
       "      <td>Ya85v4eqdd6k9Od8HbQjyA</td>\n",
       "      <td>4</td>\n",
       "      <td>Mr Hoagie is an institution. Walking in, it do...</td>\n",
       "      <td>review</td>\n",
       "      <td>PUFPaY9KxDAcGqfsorJp3Q</td>\n",
       "      <td>{'useful': 0, 'funny': 0, 'cool': 0}</td>\n",
       "    </tr>\n",
       "    <tr>\n",
       "      <th>1</th>\n",
       "      <td>57712bd37b99e72215527530</td>\n",
       "      <td>5UmKMjUEUNdYWqANhGckJw</td>\n",
       "      <td>2015-10-31</td>\n",
       "      <td>fFSoGV46Yxuwbr3fHNuZig</td>\n",
       "      <td>5</td>\n",
       "      <td>Yes this place is a little out dated and not o...</td>\n",
       "      <td>review</td>\n",
       "      <td>auESFwWvW42h6alXgFxAXQ</td>\n",
       "      <td>{'useful': 0, 'funny': 0, 'cool': 0}</td>\n",
       "    </tr>\n",
       "  </tbody>\n",
       "</table>\n",
       "</div>"
      ],
      "text/plain": [
       "                        _id             business_id        date  \\\n",
       "0  57712bd37b99e7221552752f  5UmKMjUEUNdYWqANhGckJw  2012-08-01   \n",
       "1  57712bd37b99e72215527530  5UmKMjUEUNdYWqANhGckJw  2015-10-31   \n",
       "\n",
       "                review_id  stars  \\\n",
       "0  Ya85v4eqdd6k9Od8HbQjyA      4   \n",
       "1  fFSoGV46Yxuwbr3fHNuZig      5   \n",
       "\n",
       "                                                text    type  \\\n",
       "0  Mr Hoagie is an institution. Walking in, it do...  review   \n",
       "1  Yes this place is a little out dated and not o...  review   \n",
       "\n",
       "                  user_id                                 votes  \n",
       "0  PUFPaY9KxDAcGqfsorJp3Q  {'useful': 0, 'funny': 0, 'cool': 0}  \n",
       "1  auESFwWvW42h6alXgFxAXQ  {'useful': 0, 'funny': 0, 'cool': 0}  "
      ]
     },
     "execution_count": 10,
     "metadata": {},
     "output_type": "execute_result"
    }
   ],
   "source": [
    "# Building a small exploratory data frame limiting to 2 objects\n",
    "review_data = list(db.review.find().limit(2))\n",
    "review_df = pd.DataFrame(review_data)\n",
    "review_df"
   ]
  },
  {
   "cell_type": "code",
   "execution_count": 11,
   "metadata": {
    "collapsed": false
   },
   "outputs": [
    {
     "data": {
      "text/html": [
       "<div>\n",
       "<table border=\"1\" class=\"dataframe\">\n",
       "  <thead>\n",
       "    <tr style=\"text-align: right;\">\n",
       "      <th></th>\n",
       "      <th>_id</th>\n",
       "      <th>business_id</th>\n",
       "      <th>date</th>\n",
       "      <th>review_id</th>\n",
       "      <th>stars</th>\n",
       "      <th>text</th>\n",
       "      <th>type</th>\n",
       "      <th>user_id</th>\n",
       "      <th>votes.cool</th>\n",
       "      <th>votes.funny</th>\n",
       "      <th>votes.useful</th>\n",
       "    </tr>\n",
       "  </thead>\n",
       "  <tbody>\n",
       "    <tr>\n",
       "      <th>0</th>\n",
       "      <td>57712bd37b99e7221552752f</td>\n",
       "      <td>5UmKMjUEUNdYWqANhGckJw</td>\n",
       "      <td>2012-08-01</td>\n",
       "      <td>Ya85v4eqdd6k9Od8HbQjyA</td>\n",
       "      <td>4</td>\n",
       "      <td>Mr Hoagie is an institution. Walking in, it do...</td>\n",
       "      <td>review</td>\n",
       "      <td>PUFPaY9KxDAcGqfsorJp3Q</td>\n",
       "      <td>0</td>\n",
       "      <td>0</td>\n",
       "      <td>0</td>\n",
       "    </tr>\n",
       "    <tr>\n",
       "      <th>1</th>\n",
       "      <td>57712bd37b99e72215527530</td>\n",
       "      <td>5UmKMjUEUNdYWqANhGckJw</td>\n",
       "      <td>2015-10-31</td>\n",
       "      <td>fFSoGV46Yxuwbr3fHNuZig</td>\n",
       "      <td>5</td>\n",
       "      <td>Yes this place is a little out dated and not o...</td>\n",
       "      <td>review</td>\n",
       "      <td>auESFwWvW42h6alXgFxAXQ</td>\n",
       "      <td>0</td>\n",
       "      <td>0</td>\n",
       "      <td>0</td>\n",
       "    </tr>\n",
       "  </tbody>\n",
       "</table>\n",
       "</div>"
      ],
      "text/plain": [
       "                        _id             business_id        date  \\\n",
       "0  57712bd37b99e7221552752f  5UmKMjUEUNdYWqANhGckJw  2012-08-01   \n",
       "1  57712bd37b99e72215527530  5UmKMjUEUNdYWqANhGckJw  2015-10-31   \n",
       "\n",
       "                review_id  stars  \\\n",
       "0  Ya85v4eqdd6k9Od8HbQjyA      4   \n",
       "1  fFSoGV46Yxuwbr3fHNuZig      5   \n",
       "\n",
       "                                                text    type  \\\n",
       "0  Mr Hoagie is an institution. Walking in, it do...  review   \n",
       "1  Yes this place is a little out dated and not o...  review   \n",
       "\n",
       "                  user_id  votes.cool  votes.funny  votes.useful  \n",
       "0  PUFPaY9KxDAcGqfsorJp3Q           0            0             0  \n",
       "1  auESFwWvW42h6alXgFxAXQ           0            0             0  "
      ]
     },
     "execution_count": 11,
     "metadata": {},
     "output_type": "execute_result"
    }
   ],
   "source": [
    "# Normalized data frame\n",
    "review_norm_df = pd.DataFrame(json_normalize(review_data)) \n",
    "review_norm_df"
   ]
  },
  {
   "cell_type": "markdown",
   "metadata": {
    "collapsed": true
   },
   "source": [
    "## Exploring tip collection in the yelp DB"
   ]
  },
  {
   "cell_type": "code",
   "execution_count": 12,
   "metadata": {
    "collapsed": false
   },
   "outputs": [
    {
     "data": {
      "text/html": [
       "<div>\n",
       "<table border=\"1\" class=\"dataframe\">\n",
       "  <thead>\n",
       "    <tr style=\"text-align: right;\">\n",
       "      <th></th>\n",
       "      <th>_id</th>\n",
       "      <th>business_id</th>\n",
       "      <th>date</th>\n",
       "      <th>likes</th>\n",
       "      <th>text</th>\n",
       "      <th>type</th>\n",
       "      <th>user_id</th>\n",
       "    </tr>\n",
       "  </thead>\n",
       "  <tbody>\n",
       "    <tr>\n",
       "      <th>0</th>\n",
       "      <td>57712e7b7b99e722158ee6ef</td>\n",
       "      <td>cE27W9VPgO88Qxe4ol6y_g</td>\n",
       "      <td>2013-04-18</td>\n",
       "      <td>0</td>\n",
       "      <td>Don't waste your time.</td>\n",
       "      <td>tip</td>\n",
       "      <td>-6rEfobYjMxpUWLNxszaxQ</td>\n",
       "    </tr>\n",
       "    <tr>\n",
       "      <th>1</th>\n",
       "      <td>57712e7b7b99e722158ee6f0</td>\n",
       "      <td>mVHrayjG3uZ_RLHkLj-AMg</td>\n",
       "      <td>2013-01-06</td>\n",
       "      <td>1</td>\n",
       "      <td>Your GPS will not allow you to find this place...</td>\n",
       "      <td>tip</td>\n",
       "      <td>EZ0r9dKKtEGVx2CdnowPCw</td>\n",
       "    </tr>\n",
       "  </tbody>\n",
       "</table>\n",
       "</div>"
      ],
      "text/plain": [
       "                        _id             business_id        date  likes  \\\n",
       "0  57712e7b7b99e722158ee6ef  cE27W9VPgO88Qxe4ol6y_g  2013-04-18      0   \n",
       "1  57712e7b7b99e722158ee6f0  mVHrayjG3uZ_RLHkLj-AMg  2013-01-06      1   \n",
       "\n",
       "                                                text type  \\\n",
       "0                             Don't waste your time.  tip   \n",
       "1  Your GPS will not allow you to find this place...  tip   \n",
       "\n",
       "                  user_id  \n",
       "0  -6rEfobYjMxpUWLNxszaxQ  \n",
       "1  EZ0r9dKKtEGVx2CdnowPCw  "
      ]
     },
     "execution_count": 12,
     "metadata": {},
     "output_type": "execute_result"
    }
   ],
   "source": [
    "# Building a small exploratory data frame limiting to 2 objects\n",
    "tip_data = list(db.tip.find().limit(2))\n",
    "tip_df = pd.DataFrame(tip_data)\n",
    "tip_df\n",
    "# no nested objects >> no need to normalize"
   ]
  },
  {
   "cell_type": "markdown",
   "metadata": {
    "collapsed": true
   },
   "source": [
    "## Exploring tip collection in the yelp DB"
   ]
  },
  {
   "cell_type": "code",
   "execution_count": 13,
   "metadata": {
    "collapsed": false,
    "scrolled": true
   },
   "outputs": [
    {
     "data": {
      "text/html": [
       "<div>\n",
       "<table border=\"1\" class=\"dataframe\">\n",
       "  <thead>\n",
       "    <tr style=\"text-align: right;\">\n",
       "      <th></th>\n",
       "      <th>_id</th>\n",
       "      <th>average_stars</th>\n",
       "      <th>compliments</th>\n",
       "      <th>elite</th>\n",
       "      <th>fans</th>\n",
       "      <th>friends</th>\n",
       "      <th>name</th>\n",
       "      <th>review_count</th>\n",
       "      <th>type</th>\n",
       "      <th>user_id</th>\n",
       "      <th>votes</th>\n",
       "      <th>yelping_since</th>\n",
       "    </tr>\n",
       "  </thead>\n",
       "  <tbody>\n",
       "    <tr>\n",
       "      <th>0</th>\n",
       "      <td>57712ea47b99e7221597eee7</td>\n",
       "      <td>4.14</td>\n",
       "      <td>{'plain': 25, 'hot': 48, 'funny': 11, 'photos'...</td>\n",
       "      <td>[2005, 2006]</td>\n",
       "      <td>70</td>\n",
       "      <td>[rpOyqD_893cqmDAtJLbdog, 4U9kSBLuBDU391x6bxU-Y...</td>\n",
       "      <td>Russel</td>\n",
       "      <td>108</td>\n",
       "      <td>user</td>\n",
       "      <td>18kPq7GPye-YQ3LyKyAZPw</td>\n",
       "      <td>{'useful': 280, 'funny': 167, 'cool': 245}</td>\n",
       "      <td>2004-10</td>\n",
       "    </tr>\n",
       "    <tr>\n",
       "      <th>1</th>\n",
       "      <td>57712ea47b99e7221597eee8</td>\n",
       "      <td>4.64</td>\n",
       "      <td>{'cute': 2}</td>\n",
       "      <td>[]</td>\n",
       "      <td>2</td>\n",
       "      <td>[18kPq7GPye-YQ3LyKyAZPw, rpOyqD_893cqmDAtJLbdo...</td>\n",
       "      <td>Ken</td>\n",
       "      <td>11</td>\n",
       "      <td>user</td>\n",
       "      <td>fHtTaujcyKvXglE33Z5yIw</td>\n",
       "      <td>{'useful': 11, 'funny': 1, 'cool': 5}</td>\n",
       "      <td>2004-10</td>\n",
       "    </tr>\n",
       "  </tbody>\n",
       "</table>\n",
       "</div>"
      ],
      "text/plain": [
       "                        _id  average_stars  \\\n",
       "0  57712ea47b99e7221597eee7           4.14   \n",
       "1  57712ea47b99e7221597eee8           4.64   \n",
       "\n",
       "                                         compliments         elite  fans  \\\n",
       "0  {'plain': 25, 'hot': 48, 'funny': 11, 'photos'...  [2005, 2006]    70   \n",
       "1                                        {'cute': 2}            []     2   \n",
       "\n",
       "                                             friends    name  review_count  \\\n",
       "0  [rpOyqD_893cqmDAtJLbdog, 4U9kSBLuBDU391x6bxU-Y...  Russel           108   \n",
       "1  [18kPq7GPye-YQ3LyKyAZPw, rpOyqD_893cqmDAtJLbdo...     Ken            11   \n",
       "\n",
       "   type                 user_id                                       votes  \\\n",
       "0  user  18kPq7GPye-YQ3LyKyAZPw  {'useful': 280, 'funny': 167, 'cool': 245}   \n",
       "1  user  fHtTaujcyKvXglE33Z5yIw       {'useful': 11, 'funny': 1, 'cool': 5}   \n",
       "\n",
       "  yelping_since  \n",
       "0       2004-10  \n",
       "1       2004-10  "
      ]
     },
     "execution_count": 13,
     "metadata": {},
     "output_type": "execute_result"
    }
   ],
   "source": [
    "# Building a small exploratory data frame limiting to 2 objects\n",
    "user_data = list(db.user.find().limit(2))\n",
    "user_df = pd.DataFrame(user_data)\n",
    "user_df"
   ]
  },
  {
   "cell_type": "code",
   "execution_count": 14,
   "metadata": {
    "collapsed": false,
    "scrolled": true
   },
   "outputs": [
    {
     "data": {
      "text/html": [
       "<div>\n",
       "<table border=\"1\" class=\"dataframe\">\n",
       "  <thead>\n",
       "    <tr style=\"text-align: right;\">\n",
       "      <th></th>\n",
       "      <th>_id</th>\n",
       "      <th>average_stars</th>\n",
       "      <th>compliments.cool</th>\n",
       "      <th>compliments.cute</th>\n",
       "      <th>compliments.funny</th>\n",
       "      <th>compliments.hot</th>\n",
       "      <th>compliments.more</th>\n",
       "      <th>compliments.note</th>\n",
       "      <th>compliments.photos</th>\n",
       "      <th>compliments.plain</th>\n",
       "      <th>...</th>\n",
       "      <th>fans</th>\n",
       "      <th>friends</th>\n",
       "      <th>name</th>\n",
       "      <th>review_count</th>\n",
       "      <th>type</th>\n",
       "      <th>user_id</th>\n",
       "      <th>votes.cool</th>\n",
       "      <th>votes.funny</th>\n",
       "      <th>votes.useful</th>\n",
       "      <th>yelping_since</th>\n",
       "    </tr>\n",
       "  </thead>\n",
       "  <tbody>\n",
       "    <tr>\n",
       "      <th>0</th>\n",
       "      <td>57712ea47b99e7221597eee7</td>\n",
       "      <td>4.14</td>\n",
       "      <td>78.0</td>\n",
       "      <td>15</td>\n",
       "      <td>11.0</td>\n",
       "      <td>48.0</td>\n",
       "      <td>3.0</td>\n",
       "      <td>20.0</td>\n",
       "      <td>14.0</td>\n",
       "      <td>25.0</td>\n",
       "      <td>...</td>\n",
       "      <td>70</td>\n",
       "      <td>[rpOyqD_893cqmDAtJLbdog, 4U9kSBLuBDU391x6bxU-Y...</td>\n",
       "      <td>Russel</td>\n",
       "      <td>108</td>\n",
       "      <td>user</td>\n",
       "      <td>18kPq7GPye-YQ3LyKyAZPw</td>\n",
       "      <td>245</td>\n",
       "      <td>167</td>\n",
       "      <td>280</td>\n",
       "      <td>2004-10</td>\n",
       "    </tr>\n",
       "    <tr>\n",
       "      <th>1</th>\n",
       "      <td>57712ea47b99e7221597eee8</td>\n",
       "      <td>4.64</td>\n",
       "      <td>NaN</td>\n",
       "      <td>2</td>\n",
       "      <td>NaN</td>\n",
       "      <td>NaN</td>\n",
       "      <td>NaN</td>\n",
       "      <td>NaN</td>\n",
       "      <td>NaN</td>\n",
       "      <td>NaN</td>\n",
       "      <td>...</td>\n",
       "      <td>2</td>\n",
       "      <td>[18kPq7GPye-YQ3LyKyAZPw, rpOyqD_893cqmDAtJLbdo...</td>\n",
       "      <td>Ken</td>\n",
       "      <td>11</td>\n",
       "      <td>user</td>\n",
       "      <td>fHtTaujcyKvXglE33Z5yIw</td>\n",
       "      <td>5</td>\n",
       "      <td>1</td>\n",
       "      <td>11</td>\n",
       "      <td>2004-10</td>\n",
       "    </tr>\n",
       "  </tbody>\n",
       "</table>\n",
       "<p>2 rows × 23 columns</p>\n",
       "</div>"
      ],
      "text/plain": [
       "                        _id  average_stars  compliments.cool  \\\n",
       "0  57712ea47b99e7221597eee7           4.14              78.0   \n",
       "1  57712ea47b99e7221597eee8           4.64               NaN   \n",
       "\n",
       "   compliments.cute  compliments.funny  compliments.hot  compliments.more  \\\n",
       "0                15               11.0             48.0               3.0   \n",
       "1                 2                NaN              NaN               NaN   \n",
       "\n",
       "   compliments.note  compliments.photos  compliments.plain      ...        \\\n",
       "0              20.0                14.0               25.0      ...         \n",
       "1               NaN                 NaN                NaN      ...         \n",
       "\n",
       "   fans                                            friends    name  \\\n",
       "0    70  [rpOyqD_893cqmDAtJLbdog, 4U9kSBLuBDU391x6bxU-Y...  Russel   \n",
       "1     2  [18kPq7GPye-YQ3LyKyAZPw, rpOyqD_893cqmDAtJLbdo...     Ken   \n",
       "\n",
       "   review_count  type                 user_id  votes.cool votes.funny  \\\n",
       "0           108  user  18kPq7GPye-YQ3LyKyAZPw         245         167   \n",
       "1            11  user  fHtTaujcyKvXglE33Z5yIw           5           1   \n",
       "\n",
       "  votes.useful  yelping_since  \n",
       "0          280        2004-10  \n",
       "1           11        2004-10  \n",
       "\n",
       "[2 rows x 23 columns]"
      ]
     },
     "execution_count": 14,
     "metadata": {},
     "output_type": "execute_result"
    }
   ],
   "source": [
    "# Normalized data frame\n",
    "user_norm_df = pd.DataFrame(json_normalize(user_data)) \n",
    "user_norm_df"
   ]
  },
  {
   "cell_type": "code",
   "execution_count": 15,
   "metadata": {
    "collapsed": false
   },
   "outputs": [],
   "source": [
    "users = (list(db.user.find({},{\"_id\":0})))\n",
    "users_df = pd.DataFrame(users)\n",
    "users = []\n"
   ]
  },
  {
   "cell_type": "code",
   "execution_count": 35,
   "metadata": {
    "collapsed": false
   },
   "outputs": [
    {
     "data": {
      "text/plain": [
       "<matplotlib.text.Text at 0x1725562d7b8>"
      ]
     },
     "execution_count": 35,
     "metadata": {},
     "output_type": "execute_result"
    },
    {
     "data": {
      "image/png": "[encoded data removed]",
      "text/plain": [
       "<matplotlib.figure.Figure at 0x172554c24e0>"
      ]
     },
     "metadata": {},
     "output_type": "display_data"
    },
    {
     "data": {
      "image/png": "[encoded data removed]",
      "text/plain": [
       "<matplotlib.figure.Figure at 0x1725550f3c8>"
      ]
     },
     "metadata": {},
     "output_type": "display_data"
    },
    {
     "data": {
      "image/png": "[encoded data removed]",
      "text/plain": [
       "<matplotlib.figure.Figure at 0x172555b1198>"
      ]
     },
     "metadata": {},
     "output_type": "display_data"
    }
   ],
   "source": [
    "plt.figure()\n",
    "plt.hist(users_df.average_stars, 30)\n",
    "plt.title('Average stars distribution among users')\n",
    "plt.figure()\n",
    "plt.hist(users_df.fans,30 )\n",
    "plt.title('Fans distribution among users')\n",
    "plt.figure()\n",
    "plt.hist(users_df.review_count,30 )\n",
    "plt.title('Review count distribution among users')"
   ]
  },
  {
   "cell_type": "code",
   "execution_count": 24,
   "metadata": {
    "collapsed": false
   },
   "outputs": [
    {
     "name": "stdout",
     "output_type": "stream",
     "text": [
      "Max friends 3812\n",
      "Min friends 0\n",
      "Mean friends 6.452227707983684\n",
      "Std friends 38.26312367650042\n",
      "Users with the biggest friends count:\n",
      "133934    3812\n",
      "78549     3206\n",
      "153684    3162\n",
      "325601    2789\n",
      "152114    2485\n",
      "Name: num_friends, dtype: int64\n"
     ]
    }
   ],
   "source": [
    "# Getting friends count of each user in the data set\n",
    "friendsnum = list()\n",
    "for friends in users_df.friends:\n",
    "    friendsnum.append(len(friends))\n",
    "users_df['num_friends'] = friendsnum\n",
    "print('Max friends',users_df.num_friends.max())\n",
    "print('Min friends',users_df.num_friends.min())\n",
    "print('Mean friends',users_df.num_friends.mean())\n",
    "print('Std friends',users_df.num_friends.std())\n",
    "print('Users with the biggest friends count:')\n",
    "print(users_df.sort_values('num_friends', ascending = False).num_friends.head())\n",
    "# "
   ]
  },
  {
   "cell_type": "code",
   "execution_count": 56,
   "metadata": {
    "collapsed": false
   },
   "outputs": [
    {
     "data": {
      "text/plain": [
       "<matplotlib.text.Text at 0x17256eb0710>"
      ]
     },
     "execution_count": 56,
     "metadata": {},
     "output_type": "execute_result"
    },
    {
     "data": {
      "image/png": "[encoded data removed]",
      "text/plain": [
       "<matplotlib.figure.Figure at 0x17256aa5518>"
      ]
     },
     "metadata": {},
     "output_type": "display_data"
    },
    {
     "data": {
      "image/png": "[encoded data removed]",
      "text/plain": [
       "<matplotlib.figure.Figure at 0x1725616ad30>"
      ]
     },
     "metadata": {},
     "output_type": "display_data"
    },
    {
     "data": {
      "image/png": "[encoded data removed]",
      "text/plain": [
       "<matplotlib.figure.Figure at 0x17256a00630>"
      ]
     },
     "metadata": {},
     "output_type": "display_data"
    },
    {
     "data": {
      "image/png": "[encoded data removed]",
      "text/plain": [
       "<matplotlib.figure.Figure at 0x17256c15358>"
      ]
     },
     "metadata": {},
     "output_type": "display_data"
    },
    {
     "data": {
      "image/png": "[encoded data removed]",
      "text/plain": [
       "<matplotlib.figure.Figure at 0x17256cbb0b8>"
      ]
     },
     "metadata": {},
     "output_type": "display_data"
    },
    {
     "data": {
      "image/png": "[encoded data removed]",
      "text/plain": [
       "<matplotlib.figure.Figure at 0x17256d4bda0>"
      ]
     },
     "metadata": {},
     "output_type": "display_data"
    },
    {
     "data": {
      "image/png": "[encoded data removed]",
      "text/plain": [
       "<matplotlib.figure.Figure at 0x17256de67f0>"
      ]
     },
     "metadata": {},
     "output_type": "display_data"
    }
   ],
   "source": [
    "plt.figure()\n",
    "plt.hist(users_df.average_stars[users_df.num_friends == 0], 30)\n",
    "plt.title('Average stars distribution for users with 0 friends')\n",
    "\n",
    "plt.figure()\n",
    "plt.hist(users_df.average_stars[users_df.num_friends == 6], 30)\n",
    "plt.title('Average stars distribution for users with 6 friends (around mean number of friends of all users)')\n",
    "\n",
    "plt.figure()\n",
    "plt.hist(users_df.average_stars[(users_df.num_friends < 6) & (users_df.num_friends != 0)], 30)\n",
    "plt.title('Average stars distribution for users with less than 6 friends (no 0-friends users included)')\n",
    "\n",
    "plt.figure()\n",
    "plt.hist(users_df.average_stars[(users_df.num_friends > 6) & (users_df.num_friends<= 100) ], 30)\n",
    "# check all interval from 6 to 3812 with increment 100 > all interval give more or less the same shape of the distribution \n",
    "plt.title('Average stars distribution for users with 7 - 100 friends')\n",
    "\n",
    "plt.figure()\n",
    "plt.hist(users_df.average_stars[(users_df.num_friends > 100) & (users_df.num_friends<= 400)], 30)\n",
    "plt.title('Average stars distribution for users with friends between 100 and 400')\n",
    "\n",
    "plt.figure()\n",
    "plt.hist(users_df.average_stars[(users_df.num_friends > 400) & (users_df.num_friends<= 1000) ], 30)\n",
    " \n",
    "plt.title('Average stars distribution for users with friends between 400 and 1000')\n",
    "\n",
    "plt.figure()\n",
    "plt.hist(users_df.average_stars[(users_df.num_friends > 1000) & (users_df.num_friends<= 3812)], 30) \n",
    "plt.title('Average stars distribution for users with friends between 1000 and 3812')\n",
    "\n",
    "# "
   ]
  },
  {
   "cell_type": "code",
   "execution_count": 60,
   "metadata": {
    "collapsed": false
   },
   "outputs": [
    {
     "name": "stdout",
     "output_type": "stream",
     "text": [
      "friends = 0 users num 302899\n",
      "friends = 6 users num 9997\n",
      "1-5 friends users num 153801\n",
      "7-100 friends users num 80229\n",
      "100-400 friends users num 4727\n",
      "400-1000 friends users num 537\n",
      "1000-3812 friends users num 149\n"
     ]
    }
   ],
   "source": [
    "print('friends = 0 users num', users_df.average_stars[users_df.num_friends == 0].count())\n",
    "print('friends = 6 users num', users_df.average_stars[users_df.num_friends == 6].count())\n",
    "print('1-5 friends users num', users_df.average_stars[(users_df.num_friends < 6) & (users_df.num_friends != 0)].count())\n",
    "print('7-100 friends users num', users_df.average_stars[(users_df.num_friends > 6) & (users_df.num_friends<= 100)].count())\n",
    "print('100-400 friends users num', users_df.average_stars[(users_df.num_friends > 100) & (users_df.num_friends<= 400)].count())\n",
    "print('400-1000 friends users num', users_df.average_stars[(users_df.num_friends > 400) & (users_df.num_friends<= 1000)].count())\n",
    "print('1000-3812 friends users num', users_df.average_stars[(users_df.num_friends > 1000) & (users_df.num_friends<= 3812)].count())\n",
    "\n"
   ]
  },
  {
   "cell_type": "markdown",
   "metadata": {
    "collapsed": false
   },
   "source": [
    "Initial overview of average stars distributions showed that average stars statistic vary for users with different number of friends. Preliminary based on this criteria there are sevral group of users revealed:\n",
    "* Users with 0 friends >> this is the most numerous group. Intrestingly that users with 0 friends are more likely to have 5 stars. \n",
    "#!!!QUESTION!!!: What could be the reason of such shift towards 5 stars? How to understand that?\n",
    "* Users with 1-5 friends >> the next biggest group after 0-friended group. \n",
    "* Users with 6 friends. Friends numbers across all users have 6.4 friends mean value. So it was interesting to see there as well. !!!QUESTION!!!: maybe it will be worth to recalculate the mean without 0-friended group as it effects the mean value drastically? \n",
    "* Users with 7-100 friends and users with friends from 100 - 3812 (could be combined in one group I guess)\n",
    "Intrestingly, that as number of friends increses the average stars shift to the left. For example users with 6 friends or less are more likely to have a 5 stars average rating while users with bigger number of friends will less likely have 5 star rating\n",
    "\n"
   ]
  },
  {
   "cell_type": "code",
   "execution_count": null,
   "metadata": {
    "collapsed": false
   },
   "outputs": [],
   "source": [
    "\n"
   ]
  },
  {
   "cell_type": "code",
   "execution_count": null,
   "metadata": {
    "collapsed": false
   },
   "outputs": [],
   "source": [
    "\n"
   ]
  },
  {
   "cell_type": "code",
   "execution_count": null,
   "metadata": {
    "collapsed": false
   },
   "outputs": [],
   "source": []
  },
  {
   "cell_type": "code",
   "execution_count": null,
   "metadata": {
    "collapsed": false
   },
   "outputs": [],
   "source": []
  },
  {
   "cell_type": "code",
   "execution_count": null,
   "metadata": {
    "collapsed": false
   },
   "outputs": [],
   "source": []
  },
  {
   "cell_type": "code",
   "execution_count": null,
   "metadata": {
    "collapsed": false
   },
   "outputs": [],
   "source": []
  },
  {
   "cell_type": "code",
   "execution_count": null,
   "metadata": {
    "collapsed": true
   },
   "outputs": [],
   "source": []
  }
 ],
 "metadata": {
  "kernelspec": {
   "display_name": "Python 3",
   "language": "python",
   "name": "python3"
  },
  "language_info": {
   "codemirror_mode": {
    "name": "ipython",
    "version": 3
   },
   "file_extension": ".py",
   "mimetype": "text/x-python",
   "name": "python",
   "nbconvert_exporter": "python",
   "pygments_lexer": "ipython3",
   "version": "3.5.1"
  }
 },
 "nbformat": 4,
 "nbformat_minor": 0
}
