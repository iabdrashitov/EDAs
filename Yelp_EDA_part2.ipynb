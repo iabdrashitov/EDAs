{
 "cells": [
  {
   "cell_type": "markdown",
   "metadata": {},
   "source": [
    "# Part 2: \n",
    "#### Measuring an impact of influencers reviews on businesses: studying how (positive 5 stars) reviews of influencers effect on an average rating and frequency of other user`s reviews "
   ]
  },
  {
   "cell_type": "markdown",
   "metadata": {},
   "source": [
    "##### Importing libraries..."
   ]
  },
  {
   "cell_type": "code",
   "execution_count": 869,
   "metadata": {
    "collapsed": true
   },
   "outputs": [],
   "source": [
    "import matplotlib.pyplot as plt\n",
    "import matplotlib.dates as mdates\n",
    "import seaborn as sb\n",
    "import pandas as pd\n",
    "import numpy as np\n",
    "from pandas.io.json import json_normalize\n",
    "import json\n",
    "import pymongo\n",
    "import pprint\n",
    "from pymongo import MongoClient\n",
    "import datetime as dt\n",
    "%matplotlib inline"
   ]
  },
  {
   "cell_type": "markdown",
   "metadata": {},
   "source": [
    "##### Creating a data base connection..."
   ]
  },
  {
   "cell_type": "code",
   "execution_count": 870,
   "metadata": {
    "collapsed": false
   },
   "outputs": [
    {
     "name": "stdout",
     "output_type": "stream",
     "text": [
      "...Connected\n"
     ]
    }
   ],
   "source": [
    "client = MongoClient('mongodb://localhost:27017')\n",
    "db = client.yelp\n",
    "con_check = str(db)\n",
    "if con_check.find('yelp') != int(-1):\n",
    "    print('...Connected')\n",
    "else:\n",
    "    print('...Connection Failed')"
   ]
  },
  {
   "cell_type": "markdown",
   "metadata": {},
   "source": [
    "##### Reading influencers list file...\n"
   ]
  },
  {
   "cell_type": "code",
   "execution_count": 871,
   "metadata": {
    "collapsed": false
   },
   "outputs": [
    {
     "data": {
      "text/html": [
       "<div>\n",
       "<table border=\"1\" class=\"dataframe\">\n",
       "  <thead>\n",
       "    <tr style=\"text-align: right;\">\n",
       "      <th></th>\n",
       "      <th>_id</th>\n",
       "      <th>count_elite</th>\n",
       "      <th>count_friends</th>\n",
       "      <th>fans</th>\n",
       "    </tr>\n",
       "  </thead>\n",
       "  <tbody>\n",
       "    <tr>\n",
       "      <th>2.0</th>\n",
       "      <td>spJUPXI7QaIctU0FO5c42w</td>\n",
       "      <td>7</td>\n",
       "      <td>2789</td>\n",
       "      <td>1363</td>\n",
       "    </tr>\n",
       "    <tr>\n",
       "      <th>25.0</th>\n",
       "      <td>7uxXuCcpw9-mUS3OJVw8aQ</td>\n",
       "      <td>11</td>\n",
       "      <td>1751</td>\n",
       "      <td>1339</td>\n",
       "    </tr>\n",
       "    <tr>\n",
       "      <th>17.0</th>\n",
       "      <td>8E0DGec8LNn6oDmPHmj-mg</td>\n",
       "      <td>8</td>\n",
       "      <td>1963</td>\n",
       "      <td>1323</td>\n",
       "    </tr>\n",
       "    <tr>\n",
       "      <th>69.0</th>\n",
       "      <td>UTGqubcmDv1cNe5-k8-OeA</td>\n",
       "      <td>8</td>\n",
       "      <td>1023</td>\n",
       "      <td>1184</td>\n",
       "    </tr>\n",
       "    <tr>\n",
       "      <th>12.0</th>\n",
       "      <td>w6Vv-kldGpmvSGqXvTbAdQ</td>\n",
       "      <td>6</td>\n",
       "      <td>2086</td>\n",
       "      <td>1180</td>\n",
       "    </tr>\n",
       "  </tbody>\n",
       "</table>\n",
       "</div>"
      ],
      "text/plain": [
       "                         _id  count_elite  count_friends  fans\n",
       "2.0   spJUPXI7QaIctU0FO5c42w            7           2789  1363\n",
       "25.0  7uxXuCcpw9-mUS3OJVw8aQ           11           1751  1339\n",
       "17.0  8E0DGec8LNn6oDmPHmj-mg            8           1963  1323\n",
       "69.0  UTGqubcmDv1cNe5-k8-OeA            8           1023  1184\n",
       "12.0  w6Vv-kldGpmvSGqXvTbAdQ            6           2086  1180"
      ]
     },
     "execution_count": 871,
     "metadata": {},
     "output_type": "execute_result"
    }
   ],
   "source": [
    "top_df = pd.read_json('intermediate_datasets\\influencers.json')\n",
    "top_df = top_df.sort_values(['count_friends'], ascending=False) # Sorting influencers by the number of friends\n",
    "top_df = top_df.sort_values(['fans'], ascending=False) # Sorting influencers by the number of fans\n",
    "top_df.head()\n",
    "# not sorting by the number of elite years as in this case the sorting gives contoversial results"
   ]
  },
  {
   "cell_type": "markdown",
   "metadata": {},
   "source": [
    "##### Choosing an influencer from the list..."
   ]
  },
  {
   "cell_type": "code",
   "execution_count": 872,
   "metadata": {
    "collapsed": false
   },
   "outputs": [
    {
     "data": {
      "text/plain": [
       "'2OW_K0waHOGZy536SFC-EQ'"
      ]
     },
     "execution_count": 872,
     "metadata": {},
     "output_type": "execute_result"
    }
   ],
   "source": [
    "influencer = top_df._id[(top_df.index[710])] # Picking a particular influencer from the list index[]\n",
    "influencer_reviews = list(db.review.find({\"user_id\":influencer})) # fetching all reviews done by this influencer from the data base\n",
    "influencer"
   ]
  },
  {
   "cell_type": "markdown",
   "metadata": {},
   "source": [
    "##### Choosing a particular business..."
   ]
  },
  {
   "cell_type": "code",
   "execution_count": 873,
   "metadata": {
    "collapsed": false
   },
   "outputs": [
    {
     "data": {
      "text/html": [
       "<div>\n",
       "<table border=\"1\" class=\"dataframe\">\n",
       "  <thead>\n",
       "    <tr style=\"text-align: right;\">\n",
       "      <th></th>\n",
       "      <th>_id</th>\n",
       "      <th>business_id</th>\n",
       "      <th>date</th>\n",
       "      <th>review_id</th>\n",
       "      <th>stars</th>\n",
       "      <th>text</th>\n",
       "      <th>type</th>\n",
       "      <th>user_id</th>\n",
       "      <th>votes</th>\n",
       "    </tr>\n",
       "  </thead>\n",
       "  <tbody>\n",
       "    <tr>\n",
       "      <th>0</th>\n",
       "      <td>57712c007b99e72215591dd5</td>\n",
       "      <td>eLPld7Q17XxlclFGzZQX5g</td>\n",
       "      <td>2010-01-13</td>\n",
       "      <td>ZngN_6lFBz_0MDaTn3eiRA</td>\n",
       "      <td>5</td>\n",
       "      <td>Awesome place!\\n\\nWe got to the restaurant aro...</td>\n",
       "      <td>review</td>\n",
       "      <td>2OW_K0waHOGZy536SFC-EQ</td>\n",
       "      <td>{'useful': 3, 'cool': 2, 'funny': 1}</td>\n",
       "    </tr>\n",
       "    <tr>\n",
       "      <th>3</th>\n",
       "      <td>57712c407b99e722155f7046</td>\n",
       "      <td>h3cVHInSrkLsfa1BJ80RJQ</td>\n",
       "      <td>2011-03-01</td>\n",
       "      <td>gZg5bUB9ChNfxg-k9kDI-w</td>\n",
       "      <td>5</td>\n",
       "      <td>WOW! This was my first Vegas show as it was mo...</td>\n",
       "      <td>review</td>\n",
       "      <td>2OW_K0waHOGZy536SFC-EQ</td>\n",
       "      <td>{'useful': 1, 'cool': 1, 'funny': 1}</td>\n",
       "    </tr>\n",
       "  </tbody>\n",
       "</table>\n",
       "</div>"
      ],
      "text/plain": [
       "                        _id             business_id        date  \\\n",
       "0  57712c007b99e72215591dd5  eLPld7Q17XxlclFGzZQX5g  2010-01-13   \n",
       "3  57712c407b99e722155f7046  h3cVHInSrkLsfa1BJ80RJQ  2011-03-01   \n",
       "\n",
       "                review_id  stars  \\\n",
       "0  ZngN_6lFBz_0MDaTn3eiRA      5   \n",
       "3  gZg5bUB9ChNfxg-k9kDI-w      5   \n",
       "\n",
       "                                                text    type  \\\n",
       "0  Awesome place!\\n\\nWe got to the restaurant aro...  review   \n",
       "3  WOW! This was my first Vegas show as it was mo...  review   \n",
       "\n",
       "                  user_id                                 votes  \n",
       "0  2OW_K0waHOGZy536SFC-EQ  {'useful': 3, 'cool': 2, 'funny': 1}  \n",
       "3  2OW_K0waHOGZy536SFC-EQ  {'useful': 1, 'cool': 1, 'funny': 1}  "
      ]
     },
     "execution_count": 873,
     "metadata": {},
     "output_type": "execute_result"
    }
   ],
   "source": [
    "infl_reviews_df = pd.DataFrame(influencer_reviews) # Creating a data frame for influenccer reviews\n",
    "#----------------------------------------------------------------------------------------------------------------------------\n",
    "infl_reviews_df = infl_reviews_df.sort_values('date', ascending=True)    \n",
    "# sorting influencers reviews to have the earliest reviews of the most positive reviews on the top of the list\n",
    "# ensuring the first positive influencer`s review of businesses\n",
    "infl_reviews_df = infl_reviews_df.sort_values('stars', ascending=False)\n",
    "#----------------------------------------------------------------------------------------------------------------------------\n",
    "infl_reviews_df.head(2)"
   ]
  },
  {
   "cell_type": "code",
   "execution_count": 874,
   "metadata": {
    "collapsed": false
   },
   "outputs": [],
   "source": [
    "# Picking business_id of the first review in influencer`s reviews data frame\n",
    "infl_business_id = infl_reviews_df.business_id[(infl_reviews_df.index[0])]\n",
    "# Fetching all reviews of the chosen business from the data base\n",
    "infl_business_reviews = list(db.review.find({\"business_id\":infl_business_id}))\n"
   ]
  },
  {
   "cell_type": "code",
   "execution_count": 875,
   "metadata": {
    "collapsed": false
   },
   "outputs": [
    {
     "data": {
      "text/html": [
       "<div>\n",
       "<table border=\"1\" class=\"dataframe\">\n",
       "  <thead>\n",
       "    <tr style=\"text-align: right;\">\n",
       "      <th></th>\n",
       "      <th>_id</th>\n",
       "      <th>business_id</th>\n",
       "      <th>date</th>\n",
       "      <th>review_id</th>\n",
       "      <th>stars</th>\n",
       "      <th>text</th>\n",
       "      <th>type</th>\n",
       "      <th>user_id</th>\n",
       "      <th>votes</th>\n",
       "    </tr>\n",
       "  </thead>\n",
       "  <tbody>\n",
       "    <tr>\n",
       "      <th>0</th>\n",
       "      <td>57712c007b99e72215591dad</td>\n",
       "      <td>eLPld7Q17XxlclFGzZQX5g</td>\n",
       "      <td>2006-07-03</td>\n",
       "      <td>2emyO6ti6Mum9HaAWZXlyw</td>\n",
       "      <td>4</td>\n",
       "      <td>Thinking about fresh uni reminded me about the...</td>\n",
       "      <td>review</td>\n",
       "      <td>bu28jqWB_wi_c1Bo49CIAA</td>\n",
       "      <td>{'useful': 0, 'cool': 0, 'funny': 0}</td>\n",
       "    </tr>\n",
       "    <tr>\n",
       "      <th>1</th>\n",
       "      <td>57712c007b99e72215591db0</td>\n",
       "      <td>eLPld7Q17XxlclFGzZQX5g</td>\n",
       "      <td>2006-09-30</td>\n",
       "      <td>Vl4PwxI2NHxtJnIqr1FCDQ</td>\n",
       "      <td>3</td>\n",
       "      <td>Good deal on the all-you-can-eat where it's ev...</td>\n",
       "      <td>review</td>\n",
       "      <td>1ADzO1AOjVDuByLzaX3pgg</td>\n",
       "      <td>{'useful': 0, 'cool': 0, 'funny': 0}</td>\n",
       "    </tr>\n",
       "  </tbody>\n",
       "</table>\n",
       "</div>"
      ],
      "text/plain": [
       "                        _id             business_id        date  \\\n",
       "0  57712c007b99e72215591dad  eLPld7Q17XxlclFGzZQX5g  2006-07-03   \n",
       "1  57712c007b99e72215591db0  eLPld7Q17XxlclFGzZQX5g  2006-09-30   \n",
       "\n",
       "                review_id  stars  \\\n",
       "0  2emyO6ti6Mum9HaAWZXlyw      4   \n",
       "1  Vl4PwxI2NHxtJnIqr1FCDQ      3   \n",
       "\n",
       "                                                text    type  \\\n",
       "0  Thinking about fresh uni reminded me about the...  review   \n",
       "1  Good deal on the all-you-can-eat where it's ev...  review   \n",
       "\n",
       "                  user_id                                 votes  \n",
       "0  bu28jqWB_wi_c1Bo49CIAA  {'useful': 0, 'cool': 0, 'funny': 0}  \n",
       "1  1ADzO1AOjVDuByLzaX3pgg  {'useful': 0, 'cool': 0, 'funny': 0}  "
      ]
     },
     "execution_count": 875,
     "metadata": {},
     "output_type": "execute_result"
    }
   ],
   "source": [
    "infl_business_reviews_df = pd.DataFrame(infl_business_reviews) # Creating data frame of all reviews of a chosen business\n",
    "infl_business_reviews_df.head(2)\n"
   ]
  },
  {
   "cell_type": "markdown",
   "metadata": {},
   "source": [
    "##### Plotting reviews stars vs dates..."
   ]
  },
  {
   "cell_type": "code",
   "execution_count": 876,
   "metadata": {
    "collapsed": false
   },
   "outputs": [],
   "source": [
    "dates = list(infl_business_reviews_df.date) # Creating a list of dates of all reviews a business has\n",
    "x = [dt.datetime.strptime(d,'%Y-%m-%d').date() for d in dates] # Changing dates type to datetime type\n",
    "y = list(infl_business_reviews_df.stars) # Creating a list of reviews rating\n"
   ]
  },
  {
   "cell_type": "code",
   "execution_count": 877,
   "metadata": {
    "collapsed": false
   },
   "outputs": [
    {
     "data": {
      "text/plain": [
       "<matplotlib.lines.Line2D at 0x1bcc14b8128>"
      ]
     },
     "execution_count": 877,
     "metadata": {},
     "output_type": "execute_result"
    },
    {
     "data": {
      "image/png": "[encoded data removed]",
      "text/plain": [
       "<matplotlib.figure.Figure at 0x1bcbd9b3240>"
      ]
     },
     "metadata": {},
     "output_type": "display_data"
    }
   ],
   "source": [
    "# Finding the date of influencer`s first top rated review for\n",
    "infl_review_date = infl_business_reviews_df[(infl_business_reviews_df.user_id == influencer)].date \n",
    "\n",
    "# Changing influencer`s review date to string type\n",
    "datex = list(infl_review_date)\n",
    "infl_review_date = datex[0]\n",
    "\n",
    "\n",
    "fig, ax = plt.subplots(figsize=(8,5))\n",
    "ax.scatter(x, y,alpha=0.2)\n",
    "ax.axvline(pd.to_datetime(infl_review_date) , color='r', linestyle='--', lw=2) # Red treshold line = date of influencer`s review\n"
   ]
  },
  {
   "cell_type": "code",
   "execution_count": 878,
   "metadata": {
    "collapsed": false
   },
   "outputs": [
    {
     "data": {
      "text/plain": [
       "'2010-01-13'"
      ]
     },
     "execution_count": 878,
     "metadata": {},
     "output_type": "execute_result"
    }
   ],
   "source": [
    "infl_review_date"
   ]
  },
  {
   "cell_type": "code",
   "execution_count": 879,
   "metadata": {
    "collapsed": false
   },
   "outputs": [],
   "source": [
    "# Creating a data frame with reviews before influencer`s review \n",
    "before_review_df = infl_business_reviews_df[infl_business_reviews_df.date <= infl_review_date]\n"
   ]
  },
  {
   "cell_type": "code",
   "execution_count": 880,
   "metadata": {
    "collapsed": false
   },
   "outputs": [
    {
     "name": "stdout",
     "output_type": "stream",
     "text": [
      "Average stars of the business before: 3.82051282051\n",
      "Daily reviews frequiency before: 0.0302325581395\n",
      "Weekly reviews frequiency before: 0.211627906977\n",
      "Monthly reviews frequiency before: 0.846511627907\n",
      "Number of reviews before: 39\n"
     ]
    }
   ],
   "source": [
    "#-------------------------------------------------------------------------------------------------------------------------------\n",
    "# Calculating average rating before the influencer`s review\n",
    "stars_sum = 0\n",
    "for stars in before_review_df.stars:\n",
    "    stars_sum = stars + stars_sum\n",
    "reviews_count = before_review_df.stars.count()\n",
    "avg_stars = stars_sum/reviews_count\n",
    "#-------------------------------------------------------------------------------------------------------------------------------\n",
    "\n",
    "before_dates_from_df = list(before_review_df.date) # Getting all dates before an influencer`s review date\n",
    "before_dates = [dt.datetime.strptime(d,'%Y-%m-%d').date() for d in before_dates_from_df] # Converting dates type to datetime type\n",
    "# Calculating the differnece in days between the date of the first review and the date when an influencer has made a review\n",
    "days_before_1st_review = abs((before_dates[-1] - before_dates[0]).days) # Number of days from first review up to the treshold\n",
    "weeks_before_1st_review = days_before_1st_review/7 \n",
    "months_before_1s_review = weeks_before_1st_review/4\n",
    "\n",
    "print('Average stars of the business before:',avg_stars)\n",
    "print('Daily reviews frequiency before:', reviews_count/days_before_1st_review)\n",
    "print('Weekly reviews frequiency before:', reviews_count/weeks_before_1st_review)\n",
    "print('Monthly reviews frequiency before:', reviews_count/months_before_1s_review)\n",
    "print('Number of reviews before:', reviews_count)\n"
   ]
  },
  {
   "cell_type": "code",
   "execution_count": 881,
   "metadata": {
    "collapsed": true
   },
   "outputs": [],
   "source": [
    "# Creating a data frame with reviews after an influencer`s review \n",
    "after_review_df = infl_business_reviews_df[infl_business_reviews_df.date > infl_review_date]"
   ]
  },
  {
   "cell_type": "code",
   "execution_count": 882,
   "metadata": {
    "collapsed": false
   },
   "outputs": [
    {
     "name": "stdout",
     "output_type": "stream",
     "text": [
      "Average stars of the business after: 3.97884940778\n",
      "Daily reviews frequiency before: 0.544951590595\n",
      "Weekly reviews frequiency before: 3.81466113416\n",
      "Monthly reviews frequiency before: 15.2586445367\n",
      "Number of reviews after: 1182\n"
     ]
    }
   ],
   "source": [
    "#-------------------------------------------------------------------------------------------------------------------------------\n",
    "# Calculating average rating after an influencer`s review\n",
    "stars_sum = 0\n",
    "for stars in after_review_df.stars:\n",
    "    stars_sum = stars + stars_sum\n",
    "reviews_count = after_review_df.stars.count()\n",
    "avg_stars = stars_sum/reviews_count\n",
    "#-------------------------------------------------------------------------------------------------------------------------------\n",
    "after_dates_from_df = list(after_review_df.date) # Getting all dates after an influencer`s review date\n",
    "after_dates = [dt.datetime.strptime(d,'%Y-%m-%d').date() for d in after_dates_from_df] # Converting dates type to datetime type\n",
    "# Calculating the differnece in days between the date of the the last review and the date when an influencer has made a review\n",
    "days_after_1st_review = abs((after_dates[-1] - after_dates[0]).days) # Number of days from the treshold up to the last review\n",
    "weeks_after_1st_review = days_after_1st_review/7\n",
    "months_after_1s_review = weeks_after_1st_review/4\n",
    "\n",
    "print('Average stars of the business after:',avg_stars)\n",
    "print('Daily reviews frequiency before:', reviews_count/days_after_1st_review)\n",
    "print('Weekly reviews frequiency before:', reviews_count/weeks_after_1st_review)\n",
    "print('Monthly reviews frequiency before:', reviews_count/months_after_1s_review)\n",
    "print('Number of reviews after:', reviews_count)\n",
    "\n"
   ]
  },
  {
   "cell_type": "code",
   "execution_count": null,
   "metadata": {
    "collapsed": false
   },
   "outputs": [],
   "source": []
  }
 ],
 "metadata": {
  "kernelspec": {
   "display_name": "Python 3",
   "language": "python",
   "name": "python3"
  },
  "language_info": {
   "codemirror_mode": {
    "name": "ipython",
    "version": 3
   },
   "file_extension": ".py",
   "mimetype": "text/x-python",
   "name": "python",
   "nbconvert_exporter": "python",
   "pygments_lexer": "ipython3",
   "version": "3.5.1"
  }
 },
 "nbformat": 4,
 "nbformat_minor": 0
}
